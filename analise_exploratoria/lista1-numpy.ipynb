{
  "cells": [
    {
      "cell_type": "markdown",
      "metadata": {
        "id": "view-in-github",
        "colab_type": "text"
      },
      "source": [
        "<a href=\"https://colab.research.google.com/github/juliogdomingues/icd_ufmg/blob/main/analise_exploratoria/lista1-numpy.ipynb\" target=\"_parent\"><img src=\"https://colab.research.google.com/assets/colab-badge.svg\" alt=\"Open In Colab\"/></a>"
      ]
    },
    {
      "cell_type": "markdown",
      "metadata": {
        "id": "AhtvLrlImcz7"
      },
      "source": [
        "# Lista 01 - Introdução e Revisão Numpy\n",
        "\n",
        "[NumPy](http://numpy.org) é um pacote incrivelmente poderoso em Python, onipresente em qualquer projeto de ciência de dados. Possui forte integração com o [Pandas](http://pandas.pydata.org), outra ferramenta que iremos abordar na matéria. NumPy adiciona suporte para matrizes multidimensionais e funções matemáticas que permitem que você execute facilmente cálculos de álgebra linear. Este notebook será uma coleção de exemplos de álgebra linear computados usando NumPy.\n",
        "\n",
        "## Numpy\n",
        "\n",
        "Para fazer uso de Numpy precisamos importar a biblioteca"
      ]
    },
    {
      "cell_type": "code",
      "execution_count": 1,
      "metadata": {
        "id": "BmnE2lPmmcz9"
      },
      "outputs": [],
      "source": [
        "# -*- coding: utf8\n",
        "\n",
        "import numpy as np"
      ]
    },
    {
      "cell_type": "markdown",
      "metadata": {
        "id": "xQHA4zQMmcz9"
      },
      "source": [
        "Quando pensamos no lado prático de ciência de dados, um aspecto chave que ajuda na implementação de novos algoritmos é a vetorização. De forma simples, vetorização consiste do uso de tipos como **escalar**, **vetor** e **matriz** para realizar uma computação mais eficaz (em tempo de execução).\n",
        "\n",
        "Uma matriz é uma coleção de valores, normalmente representada por uma grade 𝑚 × 𝑛, onde 𝑚 é o número de linhas e 𝑛 é o número de colunas. Os comprimentos das arestas 𝑚 e 𝑛 não precisam ser necessariamente diferentes. Se tivermos 𝑚 = 𝑛, chamamos isso de matriz quadrada. Um caso particularmente interessante de uma matriz é quando 𝑚 = 1 ou 𝑛 = 1. Nesse caso, temos um caso especial de uma matriz que chamamos de vetor. Embora haja um objeto de matriz em NumPy, faremos tudo usando matrizes NumPy porque elas podem ter dimensões maiores que 2.\n",
        "\n",
        "1. **Escalar:** Um vetor de zero dimensões"
      ]
    },
    {
      "cell_type": "code",
      "execution_count": 2,
      "metadata": {
        "colab": {
          "base_uri": "https://localhost:8080/"
        },
        "id": "92mg0eThmcz-",
        "outputId": "d32ff329-256e-4230-8c95-3150b2605a2d"
      },
      "outputs": [
        {
          "output_type": "execute_result",
          "data": {
            "text/plain": [
              "1"
            ]
          },
          "metadata": {},
          "execution_count": 2
        }
      ],
      "source": [
        "1"
      ]
    },
    {
      "cell_type": "code",
      "execution_count": 3,
      "metadata": {
        "colab": {
          "base_uri": "https://localhost:8080/"
        },
        "id": "Gr_Nnjn4mcz-",
        "outputId": "955bdce7-f03b-46c8-d7d6-e904cc004071"
      },
      "outputs": [
        {
          "output_type": "execute_result",
          "data": {
            "text/plain": [
              "array(1)"
            ]
          },
          "metadata": {},
          "execution_count": 3
        }
      ],
      "source": [
        "np.array(1)"
      ]
    },
    {
      "cell_type": "markdown",
      "metadata": {
        "id": "YiqAc7VImcz_"
      },
      "source": [
        "2. **Vetor:** Representa uma dimensão"
      ]
    },
    {
      "cell_type": "markdown",
      "metadata": {
        "id": "kryrFleMmcz_"
      },
      "source": [
        "Abaixo vamos criar um vetor simples. Inicialmente, vamos criar uma lista."
      ]
    },
    {
      "cell_type": "code",
      "execution_count": 4,
      "metadata": {
        "id": "1NI7IPD9mcz_"
      },
      "outputs": [],
      "source": [
        "data_list = [3.5, 5, 2, 8, 4.2]"
      ]
    },
    {
      "cell_type": "markdown",
      "metadata": {
        "id": "xJ3b_mGWmcz_"
      },
      "source": [
        "Observe o tipo da mesma."
      ]
    },
    {
      "cell_type": "code",
      "execution_count": 5,
      "metadata": {
        "colab": {
          "base_uri": "https://localhost:8080/"
        },
        "id": "EFuqIVLXmcz_",
        "outputId": "632a3b2b-64c0-435f-9b3c-540d2aaca14c"
      },
      "outputs": [
        {
          "output_type": "execute_result",
          "data": {
            "text/plain": [
              "list"
            ]
          },
          "metadata": {},
          "execution_count": 5
        }
      ],
      "source": [
        "type(data_list)"
      ]
    },
    {
      "cell_type": "markdown",
      "metadata": {
        "id": "Qrc5cRh9mcz_"
      },
      "source": [
        "Embora vetores e listas sejam parecidos, vetores Numpy são otimizados para operações de Álgebra Linear. Ciência de Dados faz bastante uso de tais operações, sendo este um dos motivos da dependência em Numpy.\n",
        "\n",
        "Abaixo criamos um vetor."
      ]
    },
    {
      "cell_type": "code",
      "execution_count": 6,
      "metadata": {
        "colab": {
          "base_uri": "https://localhost:8080/"
        },
        "id": "53kLKfPemc0A",
        "outputId": "e6bc6711-dd91-4e7c-c5e9-15a8ea0d1131"
      },
      "outputs": [
        {
          "output_type": "stream",
          "name": "stdout",
          "text": [
            "[3.5 5.  2.  8.  4.2]\n",
            "<class 'numpy.ndarray'>\n"
          ]
        }
      ],
      "source": [
        "data = np.array(data_list)\n",
        "print(data)\n",
        "print(type(data))"
      ]
    },
    {
      "cell_type": "markdown",
      "metadata": {
        "id": "yxPhFsRVmc0A"
      },
      "source": [
        "Observe como podemos somar o mesmo com um número. Não é possível fazer tal operação com listas."
      ]
    },
    {
      "cell_type": "code",
      "execution_count": 7,
      "metadata": {
        "colab": {
          "base_uri": "https://localhost:8080/"
        },
        "id": "XJq93Ecbmc0A",
        "outputId": "73c19539-9a9f-41d3-cfaa-9ca7a6192b5f"
      },
      "outputs": [
        {
          "output_type": "execute_result",
          "data": {
            "text/plain": [
              "array([10.5, 12. ,  9. , 15. , 11.2])"
            ]
          },
          "metadata": {},
          "execution_count": 7
        }
      ],
      "source": [
        "data + 7"
      ]
    },
    {
      "cell_type": "markdown",
      "metadata": {
        "id": "huDh8sn2mc0A"
      },
      "source": [
        "3. **Matrizes:** Representam duas dimensões."
      ]
    },
    {
      "cell_type": "code",
      "execution_count": 8,
      "metadata": {
        "colab": {
          "base_uri": "https://localhost:8080/"
        },
        "id": "Pfk4aLMwmc0A",
        "outputId": "142923f9-a232-48c4-9084-b37a22318f48"
      },
      "outputs": [
        {
          "output_type": "execute_result",
          "data": {
            "text/plain": [
              "array([[2, 4],\n",
              "       [1, 3]])"
            ]
          },
          "metadata": {},
          "execution_count": 8
        }
      ],
      "source": [
        "X = np.array([[2, 4],\n",
        "              [1, 3]])\n",
        "X"
      ]
    },
    {
      "cell_type": "markdown",
      "metadata": {
        "id": "Xqw9ueYTmc0A"
      },
      "source": [
        "Podemos indexar as matrizes e os vetores."
      ]
    },
    {
      "cell_type": "code",
      "execution_count": 9,
      "metadata": {
        "colab": {
          "base_uri": "https://localhost:8080/"
        },
        "id": "VqJFpkHnmc0A",
        "outputId": "ae427627-a2de-4cdb-b048-b86c80e802c2"
      },
      "outputs": [
        {
          "output_type": "execute_result",
          "data": {
            "text/plain": [
              "3.5"
            ]
          },
          "metadata": {},
          "execution_count": 9
        }
      ],
      "source": [
        "data[0]"
      ]
    },
    {
      "cell_type": "code",
      "execution_count": 10,
      "metadata": {
        "colab": {
          "base_uri": "https://localhost:8080/"
        },
        "id": "apBnuMR_mc0A",
        "outputId": "d356a22c-fa3c-4f0c-e7b9-8d4fee6b4c73"
      },
      "outputs": [
        {
          "output_type": "execute_result",
          "data": {
            "text/plain": [
              "4"
            ]
          },
          "metadata": {},
          "execution_count": 10
        }
      ],
      "source": [
        "X[0, 1] # aqui é primeira linha, segunda coluna"
      ]
    },
    {
      "cell_type": "markdown",
      "metadata": {
        "id": "hW8_XMromc0A"
      },
      "source": [
        "Podemos também criar vetores/matrizes de números aleatórios"
      ]
    },
    {
      "cell_type": "code",
      "execution_count": 11,
      "metadata": {
        "colab": {
          "base_uri": "https://localhost:8080/"
        },
        "id": "JbNIy4mZmc0A",
        "outputId": "3ec7c416-5a4b-47aa-90e9-3314a2748b02"
      },
      "outputs": [
        {
          "output_type": "stream",
          "name": "stdout",
          "text": [
            "[[-0.02229887  0.83221805 -0.4410565 ]\n",
            " [-1.90944041  0.35142824 -0.54443161]\n",
            " [-0.70184815  0.11673082 -0.62412567]\n",
            " [-0.18288567  1.1469483   0.57644385]]\n"
          ]
        }
      ],
      "source": [
        "X = np.random.randn(4, 3) # Gera números aleatórios de uma normal\n",
        "print(X)"
      ]
    },
    {
      "cell_type": "markdown",
      "metadata": {
        "id": "sEjXnq6-mc0A"
      },
      "source": [
        "### Indexando\n",
        "\n",
        "Pegando a primeira linha"
      ]
    },
    {
      "cell_type": "code",
      "execution_count": 12,
      "metadata": {
        "colab": {
          "base_uri": "https://localhost:8080/"
        },
        "id": "LKeYBsKImc0A",
        "outputId": "d7c7738a-281f-4e1c-bd59-497b3b5275d7"
      },
      "outputs": [
        {
          "output_type": "execute_result",
          "data": {
            "text/plain": [
              "array([-0.02229887,  0.83221805, -0.4410565 ])"
            ]
          },
          "metadata": {},
          "execution_count": 12
        }
      ],
      "source": [
        "X[0] # observe que 0 é a linha 1, compare com o X[0, 1] de antes."
      ]
    },
    {
      "cell_type": "code",
      "execution_count": 13,
      "metadata": {
        "colab": {
          "base_uri": "https://localhost:8080/"
        },
        "id": "U-46iWe8mc0B",
        "outputId": "cfd197e9-deba-4d10-ad89-f07c8acf42d8"
      },
      "outputs": [
        {
          "output_type": "execute_result",
          "data": {
            "text/plain": [
              "array([-1.90944041,  0.35142824, -0.54443161])"
            ]
          },
          "metadata": {},
          "execution_count": 13
        }
      ],
      "source": [
        "X[1] # segunda"
      ]
    },
    {
      "cell_type": "code",
      "execution_count": 14,
      "metadata": {
        "colab": {
          "base_uri": "https://localhost:8080/"
        },
        "id": "dr0x3oQmmc0B",
        "outputId": "54e06959-40b3-4965-b0a2-eb6a5e585efc"
      },
      "outputs": [
        {
          "output_type": "execute_result",
          "data": {
            "text/plain": [
              "array([-0.70184815,  0.11673082, -0.62412567])"
            ]
          },
          "metadata": {},
          "execution_count": 14
        }
      ],
      "source": [
        "X[2] # terceira"
      ]
    },
    {
      "cell_type": "markdown",
      "metadata": {
        "id": "vzN-Lp3Qmc0B"
      },
      "source": [
        "Observe como todos os tipos retornados são `array`. Array é o nome genérico de Numpy para vetores e matrizes."
      ]
    },
    {
      "cell_type": "markdown",
      "metadata": {
        "id": "zLpfpfOKmc0B"
      },
      "source": [
        "`X[:, c]` pega uma coluna"
      ]
    },
    {
      "cell_type": "code",
      "execution_count": 15,
      "metadata": {
        "colab": {
          "base_uri": "https://localhost:8080/"
        },
        "id": "0xFkwq_qmc0B",
        "outputId": "783dd285-0ff5-4f45-f278-d019c4a9dfe1"
      },
      "outputs": [
        {
          "output_type": "execute_result",
          "data": {
            "text/plain": [
              "array([-0.02229887, -1.90944041, -0.70184815, -0.18288567])"
            ]
          },
          "metadata": {},
          "execution_count": 15
        }
      ],
      "source": [
        "X[:, 0]"
      ]
    },
    {
      "cell_type": "code",
      "execution_count": 16,
      "metadata": {
        "colab": {
          "base_uri": "https://localhost:8080/"
        },
        "id": "KViUvGt1mc0B",
        "outputId": "403d35f3-d41b-4677-9fcb-53e8a4afc730"
      },
      "outputs": [
        {
          "output_type": "execute_result",
          "data": {
            "text/plain": [
              "array([0.83221805, 0.35142824, 0.11673082, 1.1469483 ])"
            ]
          },
          "metadata": {},
          "execution_count": 16
        }
      ],
      "source": [
        "X[:, 1]"
      ]
    },
    {
      "cell_type": "markdown",
      "metadata": {
        "id": "ZBYsZKYJmc0B"
      },
      "source": [
        "`X[um_vetor]` pega as linhas da matriz. `X[:, um_vetor]` pega as colunas"
      ]
    },
    {
      "cell_type": "code",
      "execution_count": 17,
      "metadata": {
        "colab": {
          "base_uri": "https://localhost:8080/"
        },
        "id": "_ueANNF6mc0B",
        "outputId": "81f53241-0df0-4e96-a465-2dab1739dcaf"
      },
      "outputs": [
        {
          "output_type": "execute_result",
          "data": {
            "text/plain": [
              "array([[-0.02229887,  0.83221805, -0.4410565 ],\n",
              "       [-0.02229887,  0.83221805, -0.4410565 ],\n",
              "       [-1.90944041,  0.35142824, -0.54443161]])"
            ]
          },
          "metadata": {},
          "execution_count": 17
        }
      ],
      "source": [
        "X[[0, 0, 1]] # observe que pego a primeira linha, indexada por 0, duas vezes"
      ]
    },
    {
      "cell_type": "markdown",
      "metadata": {
        "id": "8GkhWjDnmc0B"
      },
      "source": [
        "Abaixo pego a segunda a primeira coluna"
      ]
    },
    {
      "cell_type": "code",
      "execution_count": 18,
      "metadata": {
        "colab": {
          "base_uri": "https://localhost:8080/"
        },
        "id": "aiA-2rK-mc0B",
        "outputId": "718dc9dd-6e68-4e69-b3aa-d0b1d2fc9009"
      },
      "outputs": [
        {
          "output_type": "execute_result",
          "data": {
            "text/plain": [
              "array([[ 0.83221805, -0.02229887],\n",
              "       [ 0.35142824, -1.90944041],\n",
              "       [ 0.11673082, -0.70184815],\n",
              "       [ 1.1469483 , -0.18288567]])"
            ]
          },
          "metadata": {},
          "execution_count": 18
        }
      ],
      "source": [
        "X[:, [1, 0]]"
      ]
    },
    {
      "cell_type": "markdown",
      "metadata": {
        "id": "Or_kaJiumc0B"
      },
      "source": [
        "### Indexação Booleana\n",
        "\n",
        "`X[vetor_booleano]` retorna as linhas (ou colunas quando X[:, vetor_booleano]) onde o vetor é true"
      ]
    },
    {
      "cell_type": "code",
      "execution_count": 19,
      "metadata": {
        "colab": {
          "base_uri": "https://localhost:8080/"
        },
        "id": "ot3PigzMmc0B",
        "outputId": "c53188a6-2481-48a3-f356-ede8065289d4"
      },
      "outputs": [
        {
          "output_type": "execute_result",
          "data": {
            "text/plain": [
              "array([[-0.02229887,  0.83221805, -0.4410565 ],\n",
              "       [-0.70184815,  0.11673082, -0.62412567]])"
            ]
          },
          "metadata": {},
          "execution_count": 19
        }
      ],
      "source": [
        "X[[True, False, True, False]]"
      ]
    },
    {
      "cell_type": "code",
      "execution_count": 20,
      "metadata": {
        "colab": {
          "base_uri": "https://localhost:8080/"
        },
        "id": "WjTp-p6amc0B",
        "outputId": "9ee02f63-950a-481d-d098-effc5a1915e6"
      },
      "outputs": [
        {
          "output_type": "execute_result",
          "data": {
            "text/plain": [
              "array([[ 0.83221805, -0.4410565 ],\n",
              "       [ 0.35142824, -0.54443161],\n",
              "       [ 0.11673082, -0.62412567],\n",
              "       [ 1.1469483 ,  0.57644385]])"
            ]
          },
          "metadata": {},
          "execution_count": 20
        }
      ],
      "source": [
        "X[:, [False, True, True]]"
      ]
    },
    {
      "cell_type": "markdown",
      "metadata": {
        "id": "iKpNaKhdmc0B"
      },
      "source": [
        "### Reshape, Flatten e Ravel\n",
        "\n",
        "Todo vetor ou matriz pode ser redimensionado. Observe como uma matriz abaixo de 9x8=72 elementos. Podemos redimensionar os mesmos para outros arrays de tamanho 72."
      ]
    },
    {
      "cell_type": "code",
      "execution_count": 21,
      "metadata": {
        "id": "BfEw1Zammc0B"
      },
      "outputs": [],
      "source": [
        "X = np.random.randn(9, 8)"
      ]
    },
    {
      "cell_type": "markdown",
      "metadata": {
        "id": "-NMk3gZ4mc0C"
      },
      "source": [
        "Criando uma matriz de 18x4."
      ]
    },
    {
      "cell_type": "code",
      "execution_count": 22,
      "metadata": {
        "colab": {
          "base_uri": "https://localhost:8080/"
        },
        "id": "DiStUrNtmc0F",
        "outputId": "8980b9e2-d519-4967-c11f-3db9c8d1e059"
      },
      "outputs": [
        {
          "output_type": "execute_result",
          "data": {
            "text/plain": [
              "array([[ 1.16714371e+00,  4.76166788e-01, -1.91702359e-01,\n",
              "         9.26132306e-01],\n",
              "       [ 5.29030673e-01,  1.83731365e+00,  4.06596651e-01,\n",
              "         2.28157168e+00],\n",
              "       [-9.87524634e-01,  4.85018395e-01,  6.27548776e-01,\n",
              "         2.91770392e-01],\n",
              "       [ 1.28655482e+00, -1.85676757e+00,  1.35126422e+00,\n",
              "        -9.43662613e-01],\n",
              "       [-4.16760657e-02, -1.10478957e+00, -9.09242440e-01,\n",
              "        -6.31406856e-01],\n",
              "       [-7.38323969e-01, -1.30766934e+00,  1.16937816e+00,\n",
              "        -1.25107399e+00],\n",
              "       [-3.49744054e+00,  1.40808366e-01, -3.50559719e-01,\n",
              "         3.84435300e-01],\n",
              "       [-2.94944181e+00, -1.17778489e+00, -2.60204110e-01,\n",
              "         3.51221247e-01],\n",
              "       [ 1.11463951e+00,  1.73155800e+00,  2.49491037e-03,\n",
              "        -4.35379171e-02],\n",
              "       [-1.61710057e-01,  1.05196166e+00,  6.15650834e-01,\n",
              "         2.64476207e-01],\n",
              "       [ 1.69354605e+00,  2.24908514e+00, -3.32141313e-01,\n",
              "         1.96104186e-01],\n",
              "       [-4.07119231e-01, -1.35147444e-02, -1.73318401e-01,\n",
              "        -1.21510456e+00],\n",
              "       [-2.28093257e+00, -3.03341594e-01,  2.77803588e-01,\n",
              "         2.17173186e-01],\n",
              "       [ 2.16639697e+00,  8.13852760e-01,  1.71231360e+00,\n",
              "         1.28257212e-01],\n",
              "       [ 1.91512040e+00,  8.94132487e-01, -2.60346553e+00,\n",
              "         7.83774079e-01],\n",
              "       [-4.15613344e-01, -7.58904562e-01, -1.00975543e-01,\n",
              "         5.93411266e-01],\n",
              "       [ 1.26048046e-02, -1.00047894e+00,  1.26851831e+00,\n",
              "         9.73326834e-01],\n",
              "       [-1.19801432e+00,  2.07776894e-01, -4.15198779e-01,\n",
              "         2.15226358e-01]])"
            ]
          },
          "metadata": {},
          "execution_count": 22
        }
      ],
      "source": [
        "X.reshape((18, 4))"
      ]
    },
    {
      "cell_type": "markdown",
      "metadata": {
        "id": "IuVYyLTMmc0F"
      },
      "source": [
        "Ou um vetor de 72"
      ]
    },
    {
      "cell_type": "code",
      "execution_count": 23,
      "metadata": {
        "colab": {
          "base_uri": "https://localhost:8080/"
        },
        "id": "BdjHUVxemc0F",
        "outputId": "5124cb6b-4746-4840-8c4e-9013ee6d7ad9"
      },
      "outputs": [
        {
          "output_type": "execute_result",
          "data": {
            "text/plain": [
              "array([ 1.16714371e+00,  4.76166788e-01, -1.91702359e-01,  9.26132306e-01,\n",
              "        5.29030673e-01,  1.83731365e+00,  4.06596651e-01,  2.28157168e+00,\n",
              "       -9.87524634e-01,  4.85018395e-01,  6.27548776e-01,  2.91770392e-01,\n",
              "        1.28655482e+00, -1.85676757e+00,  1.35126422e+00, -9.43662613e-01,\n",
              "       -4.16760657e-02, -1.10478957e+00, -9.09242440e-01, -6.31406856e-01,\n",
              "       -7.38323969e-01, -1.30766934e+00,  1.16937816e+00, -1.25107399e+00,\n",
              "       -3.49744054e+00,  1.40808366e-01, -3.50559719e-01,  3.84435300e-01,\n",
              "       -2.94944181e+00, -1.17778489e+00, -2.60204110e-01,  3.51221247e-01,\n",
              "        1.11463951e+00,  1.73155800e+00,  2.49491037e-03, -4.35379171e-02,\n",
              "       -1.61710057e-01,  1.05196166e+00,  6.15650834e-01,  2.64476207e-01,\n",
              "        1.69354605e+00,  2.24908514e+00, -3.32141313e-01,  1.96104186e-01,\n",
              "       -4.07119231e-01, -1.35147444e-02, -1.73318401e-01, -1.21510456e+00,\n",
              "       -2.28093257e+00, -3.03341594e-01,  2.77803588e-01,  2.17173186e-01,\n",
              "        2.16639697e+00,  8.13852760e-01,  1.71231360e+00,  1.28257212e-01,\n",
              "        1.91512040e+00,  8.94132487e-01, -2.60346553e+00,  7.83774079e-01,\n",
              "       -4.15613344e-01, -7.58904562e-01, -1.00975543e-01,  5.93411266e-01,\n",
              "        1.26048046e-02, -1.00047894e+00,  1.26851831e+00,  9.73326834e-01,\n",
              "       -1.19801432e+00,  2.07776894e-01, -4.15198779e-01,  2.15226358e-01])"
            ]
          },
          "metadata": {},
          "execution_count": 23
        }
      ],
      "source": [
        "X.reshape(72)"
      ]
    },
    {
      "cell_type": "markdown",
      "metadata": {
        "id": "Gq9NXD_nmc0G"
      },
      "source": [
        "A chamada flatten e ravel faz a mesma coisa, criam uma visão de uma dimensão da matriz."
      ]
    },
    {
      "cell_type": "code",
      "execution_count": 24,
      "metadata": {
        "colab": {
          "base_uri": "https://localhost:8080/"
        },
        "id": "AivIJHVcmc0G",
        "outputId": "5beedb2b-d2c9-4f98-c96c-3550bcd936ee"
      },
      "outputs": [
        {
          "output_type": "execute_result",
          "data": {
            "text/plain": [
              "array([ 1.16714371e+00,  4.76166788e-01, -1.91702359e-01,  9.26132306e-01,\n",
              "        5.29030673e-01,  1.83731365e+00,  4.06596651e-01,  2.28157168e+00,\n",
              "       -9.87524634e-01,  4.85018395e-01,  6.27548776e-01,  2.91770392e-01,\n",
              "        1.28655482e+00, -1.85676757e+00,  1.35126422e+00, -9.43662613e-01,\n",
              "       -4.16760657e-02, -1.10478957e+00, -9.09242440e-01, -6.31406856e-01,\n",
              "       -7.38323969e-01, -1.30766934e+00,  1.16937816e+00, -1.25107399e+00,\n",
              "       -3.49744054e+00,  1.40808366e-01, -3.50559719e-01,  3.84435300e-01,\n",
              "       -2.94944181e+00, -1.17778489e+00, -2.60204110e-01,  3.51221247e-01,\n",
              "        1.11463951e+00,  1.73155800e+00,  2.49491037e-03, -4.35379171e-02,\n",
              "       -1.61710057e-01,  1.05196166e+00,  6.15650834e-01,  2.64476207e-01,\n",
              "        1.69354605e+00,  2.24908514e+00, -3.32141313e-01,  1.96104186e-01,\n",
              "       -4.07119231e-01, -1.35147444e-02, -1.73318401e-01, -1.21510456e+00,\n",
              "       -2.28093257e+00, -3.03341594e-01,  2.77803588e-01,  2.17173186e-01,\n",
              "        2.16639697e+00,  8.13852760e-01,  1.71231360e+00,  1.28257212e-01,\n",
              "        1.91512040e+00,  8.94132487e-01, -2.60346553e+00,  7.83774079e-01,\n",
              "       -4.15613344e-01, -7.58904562e-01, -1.00975543e-01,  5.93411266e-01,\n",
              "        1.26048046e-02, -1.00047894e+00,  1.26851831e+00,  9.73326834e-01,\n",
              "       -1.19801432e+00,  2.07776894e-01, -4.15198779e-01,  2.15226358e-01])"
            ]
          },
          "metadata": {},
          "execution_count": 24
        }
      ],
      "source": [
        "X.flatten()"
      ]
    },
    {
      "cell_type": "code",
      "execution_count": 25,
      "metadata": {
        "colab": {
          "base_uri": "https://localhost:8080/"
        },
        "id": "vuy6ZNj_mc0G",
        "outputId": "fc0e7868-4fc4-4114-9156-c38b6dedbc3e"
      },
      "outputs": [
        {
          "output_type": "execute_result",
          "data": {
            "text/plain": [
              "array([ 1.16714371e+00,  4.76166788e-01, -1.91702359e-01,  9.26132306e-01,\n",
              "        5.29030673e-01,  1.83731365e+00,  4.06596651e-01,  2.28157168e+00,\n",
              "       -9.87524634e-01,  4.85018395e-01,  6.27548776e-01,  2.91770392e-01,\n",
              "        1.28655482e+00, -1.85676757e+00,  1.35126422e+00, -9.43662613e-01,\n",
              "       -4.16760657e-02, -1.10478957e+00, -9.09242440e-01, -6.31406856e-01,\n",
              "       -7.38323969e-01, -1.30766934e+00,  1.16937816e+00, -1.25107399e+00,\n",
              "       -3.49744054e+00,  1.40808366e-01, -3.50559719e-01,  3.84435300e-01,\n",
              "       -2.94944181e+00, -1.17778489e+00, -2.60204110e-01,  3.51221247e-01,\n",
              "        1.11463951e+00,  1.73155800e+00,  2.49491037e-03, -4.35379171e-02,\n",
              "       -1.61710057e-01,  1.05196166e+00,  6.15650834e-01,  2.64476207e-01,\n",
              "        1.69354605e+00,  2.24908514e+00, -3.32141313e-01,  1.96104186e-01,\n",
              "       -4.07119231e-01, -1.35147444e-02, -1.73318401e-01, -1.21510456e+00,\n",
              "       -2.28093257e+00, -3.03341594e-01,  2.77803588e-01,  2.17173186e-01,\n",
              "        2.16639697e+00,  8.13852760e-01,  1.71231360e+00,  1.28257212e-01,\n",
              "        1.91512040e+00,  8.94132487e-01, -2.60346553e+00,  7.83774079e-01,\n",
              "       -4.15613344e-01, -7.58904562e-01, -1.00975543e-01,  5.93411266e-01,\n",
              "        1.26048046e-02, -1.00047894e+00,  1.26851831e+00,  9.73326834e-01,\n",
              "       -1.19801432e+00,  2.07776894e-01, -4.15198779e-01,  2.15226358e-01])"
            ]
          },
          "metadata": {},
          "execution_count": 25
        }
      ],
      "source": [
        "X.ravel()"
      ]
    },
    {
      "cell_type": "markdown",
      "metadata": {
        "id": "Y_rMYVI-mc0G"
      },
      "source": [
        "As funções incorporadas ao NumPy podem ser facilmente chamadas em matrizes. A maioria das funções são aplicadas a um elemento de array (como a multiplicação escalar). Por exemplo, se chamarmos `log()` em um array, o logaritmo será obtido de cada elemento."
      ]
    },
    {
      "cell_type": "code",
      "execution_count": 26,
      "metadata": {
        "colab": {
          "base_uri": "https://localhost:8080/"
        },
        "id": "Q7hUopWumc0G",
        "outputId": "3d88d0bc-b2b0-4f15-b795-70d3b8258372"
      },
      "outputs": [
        {
          "output_type": "execute_result",
          "data": {
            "text/plain": [
              "array([1.25276297, 1.60943791, 0.69314718, 2.07944154, 1.43508453])"
            ]
          },
          "metadata": {},
          "execution_count": 26
        }
      ],
      "source": [
        "np.log(data)"
      ]
    },
    {
      "cell_type": "markdown",
      "metadata": {
        "id": "GBQz2PGsmc0G"
      },
      "source": [
        "Mean tira a média"
      ]
    },
    {
      "cell_type": "code",
      "execution_count": 27,
      "metadata": {
        "colab": {
          "base_uri": "https://localhost:8080/"
        },
        "id": "gEnd1zEpmc0G",
        "outputId": "c6052042-c94c-4d81-ee8a-565a6ccf8822"
      },
      "outputs": [
        {
          "output_type": "execute_result",
          "data": {
            "text/plain": [
              "4.54"
            ]
          },
          "metadata": {},
          "execution_count": 27
        }
      ],
      "source": [
        "np.mean(data)"
      ]
    },
    {
      "cell_type": "markdown",
      "metadata": {
        "id": "ganLcBPVmc0G"
      },
      "source": [
        "Algumas funções podem ser chamadas direto no vetor, nem todas serão assim. O importante é ler a [documentação](http://numpy.org) e aprender. Com um pouco de prática você vai se acostumando."
      ]
    },
    {
      "cell_type": "code",
      "execution_count": 28,
      "metadata": {
        "colab": {
          "base_uri": "https://localhost:8080/"
        },
        "id": "W8dKicVOmc0G",
        "outputId": "2135e388-0405-4983-fdd6-f4b66117f599"
      },
      "outputs": [
        {
          "output_type": "execute_result",
          "data": {
            "text/plain": [
              "4.54"
            ]
          },
          "metadata": {},
          "execution_count": 28
        }
      ],
      "source": [
        "data.mean()"
      ]
    },
    {
      "cell_type": "markdown",
      "metadata": {
        "id": "jaKFywrCmc0G"
      },
      "source": [
        "Abaixo temos a mediana,"
      ]
    },
    {
      "cell_type": "code",
      "execution_count": 29,
      "metadata": {
        "colab": {
          "base_uri": "https://localhost:8080/"
        },
        "id": "aesaGUTRmc0G",
        "outputId": "63571476-c75c-4d3b-e740-090bf8e46c54"
      },
      "outputs": [
        {
          "output_type": "execute_result",
          "data": {
            "text/plain": [
              "4.2"
            ]
          },
          "metadata": {},
          "execution_count": 29
        }
      ],
      "source": [
        "np.median(data) # por exemplo, não existe data.median(). Faz sentido? Não. Mas é assim."
      ]
    },
    {
      "cell_type": "markdown",
      "metadata": {
        "id": "keX1d7cfmc0G"
      },
      "source": [
        "Em matrizes as funções operam em todos os elemntos."
      ]
    },
    {
      "cell_type": "code",
      "execution_count": 30,
      "metadata": {
        "colab": {
          "base_uri": "https://localhost:8080/"
        },
        "id": "CQJW4tlfmc0G",
        "outputId": "ac83770c-bf3f-4858-cfb6-2f5bc4fb38b0"
      },
      "outputs": [
        {
          "output_type": "execute_result",
          "data": {
            "text/plain": [
              "0.168456276380322"
            ]
          },
          "metadata": {},
          "execution_count": 30
        }
      ],
      "source": [
        "np.median(X)"
      ]
    },
    {
      "cell_type": "code",
      "execution_count": 31,
      "metadata": {
        "colab": {
          "base_uri": "https://localhost:8080/"
        },
        "id": "SxIaU-TDmc0G",
        "outputId": "214cf633-24f7-4ca2-f0e8-e8a65e5ff387"
      },
      "outputs": [
        {
          "output_type": "execute_result",
          "data": {
            "text/plain": [
              "0.0720627572134686"
            ]
          },
          "metadata": {},
          "execution_count": 31
        }
      ],
      "source": [
        "X.mean()"
      ]
    },
    {
      "cell_type": "code",
      "execution_count": 32,
      "metadata": {
        "colab": {
          "base_uri": "https://localhost:8080/"
        },
        "id": "v_4FjumXmc0G",
        "outputId": "84517d61-2316-43ba-9ad3-0dbd47496c3e"
      },
      "outputs": [
        {
          "output_type": "execute_result",
          "data": {
            "text/plain": [
              "array([[2.41297587, 2.34910285, 2.28322873, 2.39115738, 2.35413627,\n",
              "        2.47125672, 2.3424399 , 2.5080999 ],\n",
              "       [2.19860977, 2.34994742, 2.36344957, 2.33134458, 2.42361218,\n",
              "        2.09718721, 2.42932912, 2.20346478],\n",
              "       [2.29840878, 2.18551298, 2.20725824, 2.23736294, 2.22588503,\n",
              "        2.1624411 , 2.41317594, 2.16893095],\n",
              "       [1.87219586, 2.31656772, 2.26689991, 2.34030808, 1.95310679,\n",
              "        2.17727298, 2.27622016, 2.33710451],\n",
              "       [2.40826311, 2.46228248, 2.30283455, 2.2982218 , 2.28628191,\n",
              "        2.40260794, 2.36232941, 2.32868902],\n",
              "       [2.45903707, 2.50545125, 2.26880685, 2.3220057 , 2.26102124,\n",
              "        2.3012327 , 2.2851013 , 2.17303382],\n",
              "       [2.04369356, 2.27178133, 2.32998658, 2.32406995, 2.49867781,\n",
              "        2.38082798, 2.46064073, 2.31532926],\n",
              "       [2.47780822, 2.38822434, 2.00101158, 2.3780426 , 2.26013538,\n",
              "        2.22366043, 2.29243621, 2.36023223],\n",
              "       [2.30384478, 2.19717136, 2.42201285, 2.39546749, 2.17497734,\n",
              "        2.32314987, 2.26017864, 2.32387939]])"
            ]
          },
          "metadata": {},
          "execution_count": 32
        }
      ],
      "source": [
        "np.log(X + 10)"
      ]
    },
    {
      "cell_type": "markdown",
      "metadata": {
        "id": "bHmL-o9kmc0G"
      },
      "source": [
        "Porém, caso você queira a media de linhas ou colunas use `axis`. Antes, vamos ver o tamanho do vetor."
      ]
    },
    {
      "cell_type": "code",
      "execution_count": 33,
      "metadata": {
        "colab": {
          "base_uri": "https://localhost:8080/"
        },
        "id": "f65VJXkJmc0G",
        "outputId": "6188e935-511a-43a2-82c5-72691a968d03"
      },
      "outputs": [
        {
          "output_type": "execute_result",
          "data": {
            "text/plain": [
              "(9, 8)"
            ]
          },
          "metadata": {},
          "execution_count": 33
        }
      ],
      "source": [
        "X.shape"
      ]
    },
    {
      "cell_type": "code",
      "execution_count": 34,
      "metadata": {
        "colab": {
          "base_uri": "https://localhost:8080/"
        },
        "id": "_rD-f2CMmc0G",
        "outputId": "7019d773-5f3b-4ee6-8fc3-4f25f5abdaee"
      },
      "outputs": [
        {
          "output_type": "execute_result",
          "data": {
            "text/plain": [
              "array([-0.10050215,  0.39646212, -0.24563842,  0.34419683, -0.20980447,\n",
              "       -0.13374846,  0.47838963,  0.04714698])"
            ]
          },
          "metadata": {},
          "execution_count": 34
        }
      ],
      "source": [
        "np.mean(X, axis=0) # média das colunas. como temos 8 colunas, temos 8 elementos."
      ]
    },
    {
      "cell_type": "code",
      "execution_count": 35,
      "metadata": {
        "colab": {
          "base_uri": "https://localhost:8080/"
        },
        "id": "86Xn7Um-mc0H",
        "outputId": "14f8d1e0-fcf8-4fbf-fa23-292ebed45c32"
      },
      "outputs": [
        {
          "output_type": "execute_result",
          "data": {
            "text/plain": [
              "(8,)"
            ]
          },
          "metadata": {},
          "execution_count": 35
        }
      ],
      "source": [
        "np.mean(X, axis=0).shape"
      ]
    },
    {
      "cell_type": "code",
      "execution_count": 36,
      "metadata": {
        "colab": {
          "base_uri": "https://localhost:8080/"
        },
        "id": "DA-LiYUemc0H",
        "outputId": "0521097e-ad3f-48de-8e7f-4daa322a8f46"
      },
      "outputs": [
        {
          "output_type": "execute_result",
          "data": {
            "text/plain": [
              "array([ 0.92903164,  0.03177522, -0.60185051, -0.91987077,  0.57194164,\n",
              "        0.24969214,  0.34144039,  0.03843491,  0.00797014])"
            ]
          },
          "metadata": {},
          "execution_count": 36
        }
      ],
      "source": [
        "np.mean(X, axis=1) # média das linhas"
      ]
    },
    {
      "cell_type": "code",
      "execution_count": 37,
      "metadata": {
        "colab": {
          "base_uri": "https://localhost:8080/"
        },
        "id": "-nCil5SQmc0H",
        "outputId": "c88a271a-557b-4e1a-b1cf-6bb7a283f4a5"
      },
      "outputs": [
        {
          "output_type": "execute_result",
          "data": {
            "text/plain": [
              "(9,)"
            ]
          },
          "metadata": {},
          "execution_count": 37
        }
      ],
      "source": [
        "np.mean(X, axis=1).shape"
      ]
    },
    {
      "cell_type": "markdown",
      "metadata": {
        "id": "65cW70dxmc0H"
      },
      "source": [
        "Lembre-se que eixo 0 é coluna. Eixo 1 é linas."
      ]
    },
    {
      "cell_type": "markdown",
      "metadata": {
        "id": "jtK-dx7zmc0H"
      },
      "source": [
        "### Multiplicação de Matrizes"
      ]
    },
    {
      "cell_type": "markdown",
      "metadata": {
        "id": "FDGTaqJLmc0H"
      },
      "source": [
        "Para transpor uma matriz fazemos uso de .T"
      ]
    },
    {
      "cell_type": "code",
      "execution_count": 38,
      "metadata": {
        "colab": {
          "base_uri": "https://localhost:8080/"
        },
        "id": "t5aTe1homc0H",
        "outputId": "ffdb2534-5f48-4184-e73a-a1ca0a7dca15"
      },
      "outputs": [
        {
          "output_type": "execute_result",
          "data": {
            "text/plain": [
              "(9, 8)"
            ]
          },
          "metadata": {},
          "execution_count": 38
        }
      ],
      "source": [
        "X.shape"
      ]
    },
    {
      "cell_type": "code",
      "execution_count": 39,
      "metadata": {
        "colab": {
          "base_uri": "https://localhost:8080/"
        },
        "id": "RIPnTq-Gmc0H",
        "outputId": "8923cb51-0ae5-41ae-eb68-0f134dfa0943"
      },
      "outputs": [
        {
          "output_type": "execute_result",
          "data": {
            "text/plain": [
              "(8, 9)"
            ]
          },
          "metadata": {},
          "execution_count": 39
        }
      ],
      "source": [
        "X.T.shape"
      ]
    },
    {
      "cell_type": "code",
      "execution_count": 40,
      "metadata": {
        "colab": {
          "base_uri": "https://localhost:8080/"
        },
        "id": "KAZjb74Ymc0H",
        "outputId": "e742ccac-7ef8-4a0f-df6b-432c91063408"
      },
      "outputs": [
        {
          "output_type": "execute_result",
          "data": {
            "text/plain": [
              "array([[ 1.16714371e+00, -9.87524634e-01, -4.16760657e-02,\n",
              "        -3.49744054e+00,  1.11463951e+00,  1.69354605e+00,\n",
              "        -2.28093257e+00,  1.91512040e+00,  1.26048046e-02],\n",
              "       [ 4.76166788e-01,  4.85018395e-01, -1.10478957e+00,\n",
              "         1.40808366e-01,  1.73155800e+00,  2.24908514e+00,\n",
              "        -3.03341594e-01,  8.94132487e-01, -1.00047894e+00],\n",
              "       [-1.91702359e-01,  6.27548776e-01, -9.09242440e-01,\n",
              "        -3.50559719e-01,  2.49491037e-03, -3.32141313e-01,\n",
              "         2.77803588e-01, -2.60346553e+00,  1.26851831e+00],\n",
              "       [ 9.26132306e-01,  2.91770392e-01, -6.31406856e-01,\n",
              "         3.84435300e-01, -4.35379171e-02,  1.96104186e-01,\n",
              "         2.17173186e-01,  7.83774079e-01,  9.73326834e-01],\n",
              "       [ 5.29030673e-01,  1.28655482e+00, -7.38323969e-01,\n",
              "        -2.94944181e+00, -1.61710057e-01, -4.07119231e-01,\n",
              "         2.16639697e+00, -4.15613344e-01, -1.19801432e+00],\n",
              "       [ 1.83731365e+00, -1.85676757e+00, -1.30766934e+00,\n",
              "        -1.17778489e+00,  1.05196166e+00, -1.35147444e-02,\n",
              "         8.13852760e-01, -7.58904562e-01,  2.07776894e-01],\n",
              "       [ 4.06596651e-01,  1.35126422e+00,  1.16937816e+00,\n",
              "        -2.60204110e-01,  6.15650834e-01, -1.73318401e-01,\n",
              "         1.71231360e+00, -1.00975543e-01, -4.15198779e-01],\n",
              "       [ 2.28157168e+00, -9.43662613e-01, -1.25107399e+00,\n",
              "         3.51221247e-01,  2.64476207e-01, -1.21510456e+00,\n",
              "         1.28257212e-01,  5.93411266e-01,  2.15226358e-01]])"
            ]
          },
          "metadata": {},
          "execution_count": 40
        }
      ],
      "source": [
        "X.T"
      ]
    },
    {
      "cell_type": "markdown",
      "metadata": {
        "id": "k-iZUdC-mc0H"
      },
      "source": [
        "Para multiplicar matrizes, do ponto de visto de multiplicação matricial como definido na álgebra linear, fazemos uso de `@`."
      ]
    },
    {
      "cell_type": "code",
      "execution_count": 41,
      "metadata": {
        "colab": {
          "base_uri": "https://localhost:8080/"
        },
        "id": "SALofASomc0H",
        "outputId": "3a2c61d6-c70b-4c91-d358-bd3a1ea83f32"
      },
      "outputs": [
        {
          "output_type": "execute_result",
          "data": {
            "text/plain": [
              "array([[11.5099152 , -5.10616995, -6.15731292, -6.6204935 ,  4.7856317 ,\n",
              "         0.20981374,  0.97150043,  3.58458201,  0.26676918],\n",
              "       [-5.10616995,  9.50861844,  2.98936745,  1.12349219, -1.85100042,\n",
              "        -0.31902594,  5.81186049, -2.68470204, -2.10890201],\n",
              "       [-6.15731292,  2.98936745,  7.63544611,  3.04032064, -2.80141361,\n",
              "        -0.74140104, -0.78139677,  1.24343162, -0.8051318 ],\n",
              "       [-6.6204935 ,  1.12349219,  3.04032064, 22.80004672, -4.50151505,\n",
              "        -4.57954229,  0.17210561, -3.00379122,  3.21691495],\n",
              "       [ 4.7856317 , -1.85100042, -2.80141361, -4.50151505,  5.82436322,\n",
              "         5.39629649, -1.4825113 ,  3.00593966, -1.54394022],\n",
              "       [ 0.20981374, -0.31902594, -0.74140104, -4.57954229,  5.39629649,\n",
              "         9.74770396, -5.94038915,  5.74864928, -2.1639037 ],\n",
              "       [ 0.97150043,  5.81186049, -0.78139677,  0.17210561, -1.4825113 ,\n",
              "        -5.94038915, 13.72310848, -6.807338  , -2.27110539],\n",
              "       [ 3.58458201, -2.68470204,  1.24343162, -3.00379122,  3.00593966,\n",
              "         5.74864928, -6.807338  , 12.9704972 , -2.90022579],\n",
              "       [ 0.26676918, -2.10890201, -0.8051318 ,  3.21691495, -1.54394022,\n",
              "        -2.1639037 , -2.27110539, -2.90022579,  5.25474279]])"
            ]
          },
          "metadata": {},
          "execution_count": 41
        }
      ],
      "source": [
        "X @ X.T"
      ]
    },
    {
      "cell_type": "markdown",
      "metadata": {
        "id": "IOlB6mggmc0H"
      },
      "source": [
        "O uso de `*` realiza uma operação ponto a ponto"
      ]
    },
    {
      "cell_type": "code",
      "execution_count": 42,
      "metadata": {
        "colab": {
          "base_uri": "https://localhost:8080/"
        },
        "id": "uDwSB_O7mc0H",
        "outputId": "2947393e-910a-4799-ecf8-e88f65c9624e"
      },
      "outputs": [
        {
          "output_type": "execute_result",
          "data": {
            "text/plain": [
              "array([[1.36222445e+00, 2.26734810e-01, 3.67497945e-02, 8.57721048e-01,\n",
              "        2.79873452e-01, 3.37572146e+00, 1.65320836e-01, 5.20556935e+00],\n",
              "       [9.75204903e-01, 2.35242843e-01, 3.93817466e-01, 8.51299618e-02,\n",
              "        1.65522331e+00, 3.44758582e+00, 1.82591500e+00, 8.90499127e-01],\n",
              "       [1.73689445e-03, 1.22056000e+00, 8.26721814e-01, 3.98674618e-01,\n",
              "        5.45122283e-01, 1.70999910e+00, 1.36744529e+00, 1.56518612e+00],\n",
              "       [1.22320903e+01, 1.98269961e-02, 1.22892116e-01, 1.47790500e-01,\n",
              "        8.69920701e+00, 1.38717725e+00, 6.77061788e-02, 1.23356365e-01],\n",
              "       [1.24242124e+00, 2.99829310e+00, 6.22457774e-06, 1.89555022e-03,\n",
              "        2.61501424e-02, 1.10662334e+00, 3.79025950e-01, 6.99476638e-02],\n",
              "       [2.86809821e+00, 5.05838397e+00, 1.10317852e-01, 3.84568519e-02,\n",
              "        1.65746068e-01, 1.82648316e-04, 3.00392682e-02, 1.47647910e+00],\n",
              "       [5.20265339e+00, 9.20161225e-02, 7.71748335e-02, 4.71641926e-02,\n",
              "        4.69327584e+00, 6.62356315e-01, 2.93201787e+00, 1.64499125e-02],\n",
              "       [3.66768614e+00, 7.99472905e-01, 6.77803276e+00, 6.14301807e-01,\n",
              "        1.72734451e-01, 5.75936134e-01, 1.01960602e-02, 3.52136930e-01],\n",
              "       [1.58881099e-04, 1.00095812e+00, 1.60913871e+00, 9.47365125e-01,\n",
              "        1.43523831e+00, 4.31712376e-02, 1.72390026e-01, 4.63223852e-02]])"
            ]
          },
          "metadata": {},
          "execution_count": 42
        }
      ],
      "source": [
        "X * X"
      ]
    },
    {
      "cell_type": "markdown",
      "metadata": {
        "id": "BWENsZ86mc0H"
      },
      "source": [
        "Observe a diferença de tamanhos"
      ]
    },
    {
      "cell_type": "code",
      "execution_count": 43,
      "metadata": {
        "colab": {
          "base_uri": "https://localhost:8080/"
        },
        "id": "IkahDR6fmc0H",
        "outputId": "6d3a2519-d7d8-4f22-ed98-4e7c767b6d62"
      },
      "outputs": [
        {
          "output_type": "execute_result",
          "data": {
            "text/plain": [
              "(9, 8)"
            ]
          },
          "metadata": {},
          "execution_count": 43
        }
      ],
      "source": [
        "(X * X).shape"
      ]
    },
    {
      "cell_type": "code",
      "execution_count": 44,
      "metadata": {
        "colab": {
          "base_uri": "https://localhost:8080/"
        },
        "id": "8s8zQPlKmc0H",
        "outputId": "4af526fe-286c-435a-e145-dfb6e1e24820"
      },
      "outputs": [
        {
          "output_type": "execute_result",
          "data": {
            "text/plain": [
              "(9, 9)"
            ]
          },
          "metadata": {},
          "execution_count": 44
        }
      ],
      "source": [
        "(X @ X.T).shape"
      ]
    },
    {
      "cell_type": "markdown",
      "metadata": {
        "id": "1H4E2vMymc0H"
      },
      "source": [
        "**Pense:** Para o nosso `X` de tamanho `(9, 8)`, qual o motivo de `X * X.T` não funcionar? Qual o motivo de `X @ X` não funcionar?"
      ]
    },
    {
      "cell_type": "markdown",
      "metadata": {
        "id": "FRKMZXeVmc0H"
      },
      "source": [
        "## Correção Automática\n",
        "\n",
        "Nossa correção automática depende das funções abaixo. Tais funções comparam valores que serão computados pelo seu código com uma saída esperada. Normalmente, vocês não fazer uso de tais funções em notebooks como este. Porém, elas são chave em ambientes de testes automáticos (fora do nosso escopo).\n",
        "\n",
        "Observe como algumas funções comparam valores e outras comparam vetores. Além do mais, temos funções para comparar dentro de algumas casas decimais."
      ]
    },
    {
      "cell_type": "code",
      "execution_count": 45,
      "metadata": {
        "id": "hXyibKh4mc0H"
      },
      "outputs": [],
      "source": [
        "from numpy.testing import assert_almost_equal\n",
        "from numpy.testing import assert_equal\n",
        "\n",
        "from numpy.testing import assert_array_almost_equal\n",
        "from numpy.testing import assert_array_equal"
      ]
    },
    {
      "cell_type": "code",
      "execution_count": 46,
      "metadata": {
        "id": "JxcrQww6mc0I"
      },
      "outputs": [],
      "source": [
        "# caso você mude um dos valores vamos receber um erro!\n",
        "assert_array_equal(2, 2)\n",
        "\n",
        "# caso você mude um dos valores vamos receber um erro!\n",
        "assert_array_equal([1, 2], [1, 2])\n",
        "\n",
        "# caso você mude um dos valores vamos receber um erro!\n",
        "assert_almost_equal(3.1415, 3.14, 1)"
      ]
    },
    {
      "cell_type": "markdown",
      "metadata": {
        "id": "ipk2jGiUmc0I"
      },
      "source": [
        "Caso você mude um dos valores abaixo vamos receber um erro! Como o abaixo.\n",
        "\n",
        "```\n",
        "-----------------------------------------------------------------------\n",
        "AssertionError                        Traceback (most recent call last)\n",
        "<ipython-input-10-396672d880f2> in <module>\n",
        "----> 1 assert_equal(2, 3) # caso você mude um dos valores vamos receber um erro!\n",
        "\n",
        "~/miniconda3/lib/python3.7/site-packages/numpy/testing/_private/utils.py in assert_equal(actual, desired, err_msg, verbose)\n",
        "    413         # Explicitly use __eq__ for comparison, gh-2552\n",
        "    414         if not (desired == actual):\n",
        "--> 415             raise AssertionError(msg)\n",
        "    416\n",
        "    417     except (DeprecationWarning, FutureWarning) as e:\n",
        "\n",
        "AssertionError:\n",
        "Items are not equal:\n",
        " ACTUAL: 2\n",
        " DESIRED: 3\n",
        " ```"
      ]
    },
    {
      "cell_type": "markdown",
      "metadata": {
        "id": "ZxDGPQp3mc0I"
      },
      "source": [
        "É essencial que todo seu código execute sem erros! Portanto, antes de submeter clique em `Kernel` no menu acima. Depois clique em `Restart & Execute All.`\n",
        "\n",
        "**Garanta que o notebook executa até o fim!** Isto é, sem erros como o acima."
      ]
    },
    {
      "cell_type": "markdown",
      "metadata": {
        "id": "ctraCOOkmc0I"
      },
      "source": [
        "## Funções em Python"
      ]
    },
    {
      "cell_type": "markdown",
      "metadata": {
        "id": "ZrLQQKIkmc0I"
      },
      "source": [
        "Para criar uma função em Python fazemos uso da palavra-chave:\n",
        "```python\n",
        "def\n",
        "```\n",
        "\n",
        "Todos nossos exercícios farão uso de funções. **Mantenha a assinatura das funções exatamente como requisitado, a correção automática depende disso.** Abaixo, temos um exempo de uma função que imprime algo na tela!"
      ]
    },
    {
      "cell_type": "code",
      "execution_count": 47,
      "metadata": {
        "id": "paZ4Oc2umc0I"
      },
      "outputs": [],
      "source": [
        "def print_something(txt):\n",
        "    print(f'Voce passou o argumento: {txt}')"
      ]
    },
    {
      "cell_type": "code",
      "execution_count": 48,
      "metadata": {
        "colab": {
          "base_uri": "https://localhost:8080/"
        },
        "id": "lZy1rRenmc0I",
        "outputId": "8f38cf86-e0a7-4f01-eac2-4bb8bd9c1bca"
      },
      "outputs": [
        {
          "output_type": "stream",
          "name": "stdout",
          "text": [
            "Voce passou o argumento: DCC 212\n"
          ]
        }
      ],
      "source": [
        "print_something('DCC 212')"
      ]
    },
    {
      "cell_type": "markdown",
      "metadata": {
        "id": "vhIR6e0Mmc0I"
      },
      "source": [
        "Podemos também dizer o tipo do argumento, porém faremos pouco uso disto em ICD."
      ]
    },
    {
      "cell_type": "code",
      "execution_count": 49,
      "metadata": {
        "id": "2jqzXcIymc0I"
      },
      "outputs": [],
      "source": [
        "def print_something(txt: str):\n",
        "    print(f'Voce passou o argumento: {txt}')"
      ]
    },
    {
      "cell_type": "code",
      "execution_count": 50,
      "metadata": {
        "colab": {
          "base_uri": "https://localhost:8080/"
        },
        "id": "ys9rtTIYmc0I",
        "outputId": "a075a6b2-1c85-4961-b71c-2f1840ff41f0"
      },
      "outputs": [
        {
          "output_type": "stream",
          "name": "stdout",
          "text": [
            "Voce passou o argumento: DCC 212\n"
          ]
        }
      ],
      "source": [
        "print_something('DCC 212')"
      ]
    },
    {
      "cell_type": "markdown",
      "metadata": {
        "id": "nNyMPRgQmc0I"
      },
      "source": [
        "Abaixo temos uma função que soma, a soma, dois vetores"
      ]
    },
    {
      "cell_type": "code",
      "execution_count": 51,
      "metadata": {
        "id": "YMRBWhXEmc0I"
      },
      "outputs": [],
      "source": [
        "def sum_of_sum_vectors(array_1, array_2):\n",
        "    return (array_1 + array_2).sum()"
      ]
    },
    {
      "cell_type": "code",
      "execution_count": 52,
      "metadata": {
        "id": "uVFop1Gdmc0I"
      },
      "outputs": [],
      "source": [
        "x = np.array([1, 2])\n",
        "y = np.array([1, 2])"
      ]
    },
    {
      "cell_type": "code",
      "execution_count": 53,
      "metadata": {
        "colab": {
          "base_uri": "https://localhost:8080/"
        },
        "id": "Yyk4DQ1Umc0I",
        "outputId": "6caeb842-b49a-4a2a-9d4d-c3cf2f3cefff"
      },
      "outputs": [
        {
          "output_type": "execute_result",
          "data": {
            "text/plain": [
              "6"
            ]
          },
          "metadata": {},
          "execution_count": 53
        }
      ],
      "source": [
        "sum_of_sum_vectors(x, y)"
      ]
    },
    {
      "cell_type": "markdown",
      "metadata": {
        "id": "iwixG_sMmc0I"
      },
      "source": [
        "Abaixo temos um teste, tais testes vão avaliar o seu código. Nem todos estão aqui no notebook!"
      ]
    },
    {
      "cell_type": "code",
      "execution_count": 54,
      "metadata": {
        "id": "Mi4eUDxymc0I"
      },
      "outputs": [],
      "source": [
        "assert_equal(6, sum_of_sum_vectors(x, y))"
      ]
    },
    {
      "cell_type": "markdown",
      "metadata": {
        "id": "PijD49nxmc0I"
      },
      "source": [
        "## Exercício 01\n",
        "\n",
        "Inicialmente, crie uma função que recebe duas listas de números, converte as duas para um vetor numpy usando `np.array` e retorna o produto interno das duas listas.\n",
        "\n",
        "__Dicas:__  \n",
        "1. Tente fazer um código sem nenhum **for**! Ou seja, numpy permite operações em vetores e matrizes, onde: `np.array([1, 2]) + np.array([2, 2]) = np.array([3, 4])`.\n",
        "\n",
        "__Funções:__\n",
        "1. `np.sum(array)` soma os elementos do array. `array.sum()` tem o mesmo efeito!"
      ]
    },
    {
      "cell_type": "code",
      "execution_count": 59,
      "metadata": {
        "id": "b33BCs5_mc0I"
      },
      "outputs": [],
      "source": [
        "def inner(array_1, array_2):\n",
        "    return np.array(array_1) @ np.array(array_2)"
      ]
    },
    {
      "cell_type": "code",
      "execution_count": 60,
      "metadata": {
        "id": "Y_RLZ85gmc0I"
      },
      "outputs": [],
      "source": [
        "x1 = np.array([2, 4, 8])\n",
        "x2 = np.array([10, 100, 1000])\n",
        "assert_equal(20 + 400 + 8000, inner(x1, x2))"
      ]
    },
    {
      "cell_type": "markdown",
      "metadata": {
        "id": "_EdNrlmHmc0I"
      },
      "source": [
        "## Exercício 02\n",
        "\n",
        "Implemente uma função utilizando numpy que recebe duas matrizes, multiplica as duas e retorne o valor médio das células da multiplicação. Por exemplo, ao multiplicar:\n",
        "\n",
        "```\n",
        "[1 2]\n",
        "[3 4]\n",
        "\n",
        "com\n",
        "\n",
        "[2 1]\n",
        "[1 2]\n",
        "\n",
        "temos\n",
        "\n",
        "[4  5 ]\n",
        "[10 11]\n",
        "\n",
        "onde a média de [4, 5, 10, 11] é\n",
        "\n",
        "7.5, sua resposta final!\n",
        "```\n",
        "\n",
        "\n",
        "__Dicas:__  \n",
        "1. Use o operador @ para multiplicar matrizes!"
      ]
    },
    {
      "cell_type": "code",
      "execution_count": 61,
      "metadata": {
        "id": "f-eI5J6Nmc0I"
      },
      "outputs": [],
      "source": [
        "def medmult(X_1, X_2):\n",
        "    return (np.array(X_1) @ np.array(X_2)).mean()"
      ]
    },
    {
      "cell_type": "code",
      "execution_count": 62,
      "metadata": {
        "id": "_U9eOlr2mc0J"
      },
      "outputs": [],
      "source": [
        "X = np.array([1, 2, 3, 4]).reshape(2, 2)\n",
        "Y = np.array([2, 1, 1, 2]).reshape(2, 2)\n",
        "assert_equal(7.5, medmult(X, Y))"
      ]
    },
    {
      "cell_type": "code",
      "execution_count": null,
      "metadata": {
        "id": "_eh-7Phemc0J"
      },
      "outputs": [],
      "source": []
    }
  ],
  "metadata": {
    "kernelspec": {
      "display_name": "Python 3 (ipykernel)",
      "language": "python",
      "name": "python3"
    },
    "language_info": {
      "codemirror_mode": {
        "name": "ipython",
        "version": 3
      },
      "file_extension": ".py",
      "mimetype": "text/x-python",
      "name": "python",
      "nbconvert_exporter": "python",
      "pygments_lexer": "ipython3",
      "version": "3.11.3"
    },
    "colab": {
      "provenance": [],
      "include_colab_link": true
    }
  },
  "nbformat": 4,
  "nbformat_minor": 0
}