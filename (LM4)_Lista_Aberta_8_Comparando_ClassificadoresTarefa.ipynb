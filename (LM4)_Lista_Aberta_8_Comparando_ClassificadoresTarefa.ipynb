{
  "cells": [
    {
      "cell_type": "markdown",
      "metadata": {
        "id": "view-in-github",
        "colab_type": "text"
      },
      "source": [
        "<a href=\"https://colab.research.google.com/github/juliogdomingues/icd_ufmg/blob/main/(LM4)_Lista_Aberta_8_Comparando_ClassificadoresTarefa.ipynb\" target=\"_parent\"><img src=\"https://colab.research.google.com/assets/colab-badge.svg\" alt=\"Open In Colab\"/></a>"
      ]
    },
    {
      "cell_type": "markdown",
      "metadata": {
        "deletable": false,
        "editable": false,
        "nbgrader": {
          "checksum": "796114292f40d93792b787b19fbed7ee",
          "grade": false,
          "grade_id": "cellc-a00",
          "locked": true,
          "schema_version": 1,
          "solution": false
        },
        "id": "9DX52SnYm63_"
      },
      "source": [
        "# Lista Aberta do Módulo 4 - Comparando Classificadores"
      ]
    },
    {
      "cell_type": "markdown",
      "source": [
        "**Regras para envio:**\n",
        "\n",
        "1. Faça uma cópia deste arquivo\n",
        "2. Deixe o arquivo aberto para qualquer pessoa com o link (Share > Anyone with the link)\n",
        "3. Garanta que as saídas do notebook estão salvas (Settings > deixe desligada a opção (New notebooks use private outputs (omit outputs when saving)), e acesse o link depois em outro navegador para garantir que estão!)\n",
        "4. Digite seu nome Júlio Guerra Domingues\n",
        "5. Após finalizar o exercício, poste o link (apenas o link!) no moodle.\n",
        "\n",
        "**Atenção**: como temos pouco tempo para o fechamento do semestre, por favor garantam que seus links estão corretos! Não teremos tempo para correções. É essencial que os alunos de ICD saibam usar o Google Colab."
      ],
      "metadata": {
        "id": "rHUqhVKioqnO"
      }
    },
    {
      "cell_type": "markdown",
      "source": [
        "## Identificação de malignidade em tumores de mama - UCI ML Breast Cancer Wisconsin (Diagnostic)"
      ],
      "metadata": {
        "id": "DeaO2FXyGjNL"
      }
    },
    {
      "cell_type": "markdown",
      "source": [
        "Neste trabalho você deverá realizar uma comparação entre o k-Nearest Neighbors (KNN) e o Random Forest para classificação de pacientes com tumores na mama (maligno = 1 vs benigno = 0). Para isso, usaremos o dataset de câncer de mama de UCI (já embutido no sklearn).\n",
        "\n",
        "A avaliação dos métodos deverá ser feito usando precisão, revocação e F1. Você também deve reportar a matriz de confusão.\n",
        "\n",
        "Você não precisa implementar os métodos, já que estão disponíveis na biblioteca scikit-learn da linguagem Python. Se necessário, pode fazer mais importações de bibliotecas."
      ],
      "metadata": {
        "id": "XWz0JIVkAiGv"
      }
    },
    {
      "cell_type": "markdown",
      "source": [
        "## Importando módulos e baixando dataset"
      ],
      "metadata": {
        "id": "3TVWlLvOLhR0"
      }
    },
    {
      "cell_type": "code",
      "source": [
        "from sklearn import metrics\n",
        "from sklearn.datasets import load_breast_cancer\n",
        "from sklearn.ensemble import RandomForestClassifier\n",
        "from sklearn.feature_selection import SelectKBest, f_classif\n",
        "from sklearn.metrics import precision_score, recall_score, f1_score, confusion_matrix, classification_report\n",
        "from sklearn.neighbors import KNeighborsClassifier\n",
        "from sklearn.model_selection import StratifiedKFold, cross_val_score, cross_val_predict, train_test_split, KFold\n",
        "\n",
        "from scipy.stats import ttest_rel\n",
        "\n",
        "import pandas as pd\n",
        "import numpy as np\n",
        "import matplotlib.pyplot as plt"
      ],
      "metadata": {
        "id": "TABP0905EhnN"
      },
      "execution_count": null,
      "outputs": []
    },
    {
      "cell_type": "code",
      "source": [
        "cancer = load_breast_cancer()\n",
        "df = pd.DataFrame(cancer.data,columns =[cancer.feature_names])\n",
        "features = df.columns"
      ],
      "metadata": {
        "id": "D4K2s0aPEilP"
      },
      "execution_count": null,
      "outputs": []
    },
    {
      "cell_type": "code",
      "source": [
        "print(cancer.DESCR)"
      ],
      "metadata": {
        "colab": {
          "base_uri": "https://localhost:8080/"
        },
        "id": "DsVjiyU1FRYi",
        "outputId": "7775081a-fb22-48b9-9f14-788aaa488a2a"
      },
      "execution_count": null,
      "outputs": [
        {
          "output_type": "stream",
          "name": "stdout",
          "text": [
            ".. _breast_cancer_dataset:\n",
            "\n",
            "Breast cancer wisconsin (diagnostic) dataset\n",
            "--------------------------------------------\n",
            "\n",
            "**Data Set Characteristics:**\n",
            "\n",
            "    :Number of Instances: 569\n",
            "\n",
            "    :Number of Attributes: 30 numeric, predictive attributes and the class\n",
            "\n",
            "    :Attribute Information:\n",
            "        - radius (mean of distances from center to points on the perimeter)\n",
            "        - texture (standard deviation of gray-scale values)\n",
            "        - perimeter\n",
            "        - area\n",
            "        - smoothness (local variation in radius lengths)\n",
            "        - compactness (perimeter^2 / area - 1.0)\n",
            "        - concavity (severity of concave portions of the contour)\n",
            "        - concave points (number of concave portions of the contour)\n",
            "        - symmetry\n",
            "        - fractal dimension (\"coastline approximation\" - 1)\n",
            "\n",
            "        The mean, standard error, and \"worst\" or largest (mean of the three\n",
            "        worst/largest values) of these features were computed for each image,\n",
            "        resulting in 30 features.  For instance, field 0 is Mean Radius, field\n",
            "        10 is Radius SE, field 20 is Worst Radius.\n",
            "\n",
            "        - class:\n",
            "                - WDBC-Malignant\n",
            "                - WDBC-Benign\n",
            "\n",
            "    :Summary Statistics:\n",
            "\n",
            "    ===================================== ====== ======\n",
            "                                           Min    Max\n",
            "    ===================================== ====== ======\n",
            "    radius (mean):                        6.981  28.11\n",
            "    texture (mean):                       9.71   39.28\n",
            "    perimeter (mean):                     43.79  188.5\n",
            "    area (mean):                          143.5  2501.0\n",
            "    smoothness (mean):                    0.053  0.163\n",
            "    compactness (mean):                   0.019  0.345\n",
            "    concavity (mean):                     0.0    0.427\n",
            "    concave points (mean):                0.0    0.201\n",
            "    symmetry (mean):                      0.106  0.304\n",
            "    fractal dimension (mean):             0.05   0.097\n",
            "    radius (standard error):              0.112  2.873\n",
            "    texture (standard error):             0.36   4.885\n",
            "    perimeter (standard error):           0.757  21.98\n",
            "    area (standard error):                6.802  542.2\n",
            "    smoothness (standard error):          0.002  0.031\n",
            "    compactness (standard error):         0.002  0.135\n",
            "    concavity (standard error):           0.0    0.396\n",
            "    concave points (standard error):      0.0    0.053\n",
            "    symmetry (standard error):            0.008  0.079\n",
            "    fractal dimension (standard error):   0.001  0.03\n",
            "    radius (worst):                       7.93   36.04\n",
            "    texture (worst):                      12.02  49.54\n",
            "    perimeter (worst):                    50.41  251.2\n",
            "    area (worst):                         185.2  4254.0\n",
            "    smoothness (worst):                   0.071  0.223\n",
            "    compactness (worst):                  0.027  1.058\n",
            "    concavity (worst):                    0.0    1.252\n",
            "    concave points (worst):               0.0    0.291\n",
            "    symmetry (worst):                     0.156  0.664\n",
            "    fractal dimension (worst):            0.055  0.208\n",
            "    ===================================== ====== ======\n",
            "\n",
            "    :Missing Attribute Values: None\n",
            "\n",
            "    :Class Distribution: 212 - Malignant, 357 - Benign\n",
            "\n",
            "    :Creator:  Dr. William H. Wolberg, W. Nick Street, Olvi L. Mangasarian\n",
            "\n",
            "    :Donor: Nick Street\n",
            "\n",
            "    :Date: November, 1995\n",
            "\n",
            "This is a copy of UCI ML Breast Cancer Wisconsin (Diagnostic) datasets.\n",
            "https://goo.gl/U2Uwz2\n",
            "\n",
            "Features are computed from a digitized image of a fine needle\n",
            "aspirate (FNA) of a breast mass.  They describe\n",
            "characteristics of the cell nuclei present in the image.\n",
            "\n",
            "Separating plane described above was obtained using\n",
            "Multisurface Method-Tree (MSM-T) [K. P. Bennett, \"Decision Tree\n",
            "Construction Via Linear Programming.\" Proceedings of the 4th\n",
            "Midwest Artificial Intelligence and Cognitive Science Society,\n",
            "pp. 97-101, 1992], a classification method which uses linear\n",
            "programming to construct a decision tree.  Relevant features\n",
            "were selected using an exhaustive search in the space of 1-4\n",
            "features and 1-3 separating planes.\n",
            "\n",
            "The actual linear program used to obtain the separating plane\n",
            "in the 3-dimensional space is that described in:\n",
            "[K. P. Bennett and O. L. Mangasarian: \"Robust Linear\n",
            "Programming Discrimination of Two Linearly Inseparable Sets\",\n",
            "Optimization Methods and Software 1, 1992, 23-34].\n",
            "\n",
            "This database is also available through the UW CS ftp server:\n",
            "\n",
            "ftp ftp.cs.wisc.edu\n",
            "cd math-prog/cpo-dataset/machine-learn/WDBC/\n",
            "\n",
            ".. topic:: References\n",
            "\n",
            "   - W.N. Street, W.H. Wolberg and O.L. Mangasarian. Nuclear feature extraction \n",
            "     for breast tumor diagnosis. IS&T/SPIE 1993 International Symposium on \n",
            "     Electronic Imaging: Science and Technology, volume 1905, pages 861-870,\n",
            "     San Jose, CA, 1993.\n",
            "   - O.L. Mangasarian, W.N. Street and W.H. Wolberg. Breast cancer diagnosis and \n",
            "     prognosis via linear programming. Operations Research, 43(4), pages 570-577, \n",
            "     July-August 1995.\n",
            "   - W.H. Wolberg, W.N. Street, and O.L. Mangasarian. Machine learning techniques\n",
            "     to diagnose breast cancer from fine-needle aspirates. Cancer Letters 77 (1994) \n",
            "     163-171.\n"
          ]
        }
      ]
    },
    {
      "cell_type": "code",
      "source": [
        "#Para acessar as labels\n",
        "cancer.target"
      ],
      "metadata": {
        "id": "X8MSrfbN5PF_",
        "colab": {
          "base_uri": "https://localhost:8080/"
        },
        "outputId": "e4ccad39-0fd5-4371-939f-11bbfe38ac6a"
      },
      "execution_count": null,
      "outputs": [
        {
          "output_type": "execute_result",
          "data": {
            "text/plain": [
              "array([0, 0, 0, 0, 0, 0, 0, 0, 0, 0, 0, 0, 0, 0, 0, 0, 0, 0, 0, 1, 1, 1,\n",
              "       0, 0, 0, 0, 0, 0, 0, 0, 0, 0, 0, 0, 0, 0, 0, 1, 0, 0, 0, 0, 0, 0,\n",
              "       0, 0, 1, 0, 1, 1, 1, 1, 1, 0, 0, 1, 0, 0, 1, 1, 1, 1, 0, 1, 0, 0,\n",
              "       1, 1, 1, 1, 0, 1, 0, 0, 1, 0, 1, 0, 0, 1, 1, 1, 0, 0, 1, 0, 0, 0,\n",
              "       1, 1, 1, 0, 1, 1, 0, 0, 1, 1, 1, 0, 0, 1, 1, 1, 1, 0, 1, 1, 0, 1,\n",
              "       1, 1, 1, 1, 1, 1, 1, 0, 0, 0, 1, 0, 0, 1, 1, 1, 0, 0, 1, 0, 1, 0,\n",
              "       0, 1, 0, 0, 1, 1, 0, 1, 1, 0, 1, 1, 1, 1, 0, 1, 1, 1, 1, 1, 1, 1,\n",
              "       1, 1, 0, 1, 1, 1, 1, 0, 0, 1, 0, 1, 1, 0, 0, 1, 1, 0, 0, 1, 1, 1,\n",
              "       1, 0, 1, 1, 0, 0, 0, 1, 0, 1, 0, 1, 1, 1, 0, 1, 1, 0, 0, 1, 0, 0,\n",
              "       0, 0, 1, 0, 0, 0, 1, 0, 1, 0, 1, 1, 0, 1, 0, 0, 0, 0, 1, 1, 0, 0,\n",
              "       1, 1, 1, 0, 1, 1, 1, 1, 1, 0, 0, 1, 1, 0, 1, 1, 0, 0, 1, 0, 1, 1,\n",
              "       1, 1, 0, 1, 1, 1, 1, 1, 0, 1, 0, 0, 0, 0, 0, 0, 0, 0, 0, 0, 0, 0,\n",
              "       0, 0, 1, 1, 1, 1, 1, 1, 0, 1, 0, 1, 1, 0, 1, 1, 0, 1, 0, 0, 1, 1,\n",
              "       1, 1, 1, 1, 1, 1, 1, 1, 1, 1, 1, 0, 1, 1, 0, 1, 0, 1, 1, 1, 1, 1,\n",
              "       1, 1, 1, 1, 1, 1, 1, 1, 1, 0, 1, 1, 1, 0, 1, 0, 1, 1, 1, 1, 0, 0,\n",
              "       0, 1, 1, 1, 1, 0, 1, 0, 1, 0, 1, 1, 1, 0, 1, 1, 1, 1, 1, 1, 1, 0,\n",
              "       0, 0, 1, 1, 1, 1, 1, 1, 1, 1, 1, 1, 1, 0, 0, 1, 0, 0, 0, 1, 0, 0,\n",
              "       1, 1, 1, 1, 1, 0, 1, 1, 1, 1, 1, 0, 1, 1, 1, 0, 1, 1, 0, 0, 1, 1,\n",
              "       1, 1, 1, 1, 0, 1, 1, 1, 1, 1, 1, 1, 0, 1, 1, 1, 1, 1, 0, 1, 1, 0,\n",
              "       1, 1, 1, 1, 1, 1, 1, 1, 1, 1, 1, 1, 0, 1, 0, 0, 1, 0, 1, 1, 1, 1,\n",
              "       1, 0, 1, 1, 0, 1, 0, 1, 1, 0, 1, 0, 1, 1, 1, 1, 1, 1, 1, 1, 0, 0,\n",
              "       1, 1, 1, 1, 1, 1, 0, 1, 1, 1, 1, 1, 1, 1, 1, 1, 1, 0, 1, 1, 1, 1,\n",
              "       1, 1, 1, 0, 1, 0, 1, 1, 0, 1, 1, 1, 1, 1, 0, 0, 1, 0, 1, 0, 1, 1,\n",
              "       1, 1, 1, 0, 1, 1, 0, 1, 0, 1, 0, 0, 1, 1, 1, 0, 1, 1, 1, 1, 1, 1,\n",
              "       1, 1, 1, 1, 1, 0, 1, 0, 0, 1, 1, 1, 1, 1, 1, 1, 1, 1, 1, 1, 1, 1,\n",
              "       1, 1, 1, 1, 1, 1, 1, 1, 1, 1, 1, 1, 0, 0, 0, 0, 0, 0, 1])"
            ]
          },
          "metadata": {},
          "execution_count": 4
        }
      ]
    },
    {
      "cell_type": "code",
      "source": [
        "#Pegar as colunas que serão usadas na classificação\n",
        "features = df.columns\n",
        "\n",
        "# Número de folds da validação cruzada\n",
        "SPLITS = 5"
      ],
      "metadata": {
        "id": "1R6vdwi-_rKB"
      },
      "execution_count": null,
      "outputs": []
    },
    {
      "cell_type": "markdown",
      "source": [
        "Se tiver dúvidas sobre a validação cruzada, recomendo :https://towardsdatascience.com/what-is-stratified-cross-validation-in-machine-learning-8844f3e7ae8e . Para regressão, vocês usaram o kfold, agora recomendo a utilização do StratifiedKFold."
      ],
      "metadata": {
        "id": "wbYGm3DUNyGj"
      }
    },
    {
      "cell_type": "markdown",
      "metadata": {
        "deletable": false,
        "editable": false,
        "nbgrader": {
          "checksum": "c77a6c3fedbe648e6e209ba6323f711e",
          "grade": false,
          "grade_id": "cell-acd6c643a4ce1477",
          "locked": true,
          "schema_version": 1,
          "solution": false
        },
        "id": "cV0uYQxcm64E"
      },
      "source": [
        "# Exercício 01:\n",
        "\n",
        "Use o RandomForest para classificar as pacientes com e sem câncer.\n",
        "\n",
        "Para a questão, faça as seguintes tarefas:\n",
        "* Varie a o número de árvores (n_estimators) e a profundidade máxima da árvore (n_estimators). Faça pelo menos 4 configurações.\n",
        "* Realize validação cruzada, com k-fold igual a 5\n",
        "* Reporte a precisão, revocação, F1 e a matriz de confusão para cada configuração\n"
      ]
    },
    {
      "cell_type": "code",
      "source": [
        "# Definindo as configurações de número de árvores e profundidade máxima\n",
        "configs = [\n",
        "    (10, None),  # 10 árvores, profundidade ilimitada\n",
        "    (50, 10),    # 50 árvores, profundidade máxima 10\n",
        "    (100, 20),   # 100 árvores, profundidade máxima 20\n",
        "    (200, None)  # 200 árvores, profundidade ilimitada\n",
        "]\n",
        "\n",
        "# Separando os dados em features e target\n",
        "X = df[features]\n",
        "y = cancer.target\n",
        "\n",
        "# Loop pelas configurações\n",
        "for n_estimators, max_depth in configs:\n",
        "    print(\"-\" * 50)\n",
        "    print(f\"Configuração: n_estimators={n_estimators}, max_depth={max_depth}\")\n",
        "\n",
        "    # Criando o modelo Random Forest\n",
        "    model = RandomForestClassifier(n_estimators=n_estimators, max_depth=max_depth, random_state=42)\n",
        "\n",
        "    # Validação cruzada estratificada\n",
        "    skf = StratifiedKFold(n_splits=SPLITS, shuffle=True, random_state=42)\n",
        "    y_pred = cross_val_predict(model, X, y, cv=skf)\n",
        "\n",
        "    # Calculando as métricas\n",
        "    precision = precision_score(y, y_pred, average='weighted')\n",
        "    recall = recall_score(y, y_pred, average='weighted')\n",
        "    f1 = f1_score(y, y_pred, average='weighted')\n",
        "    conf_mat = confusion_matrix(y, y_pred)\n",
        "\n",
        "    # Imprimindo os resultados\n",
        "    print(f\"Precisão: {precision:.4f}\")\n",
        "    print(f\"Revocação: {recall:.4f}\")\n",
        "    print(f\"F1-Score: {f1:.4f}\")\n",
        "    print(\"Matriz de Confusão:\")\n",
        "    print(conf_mat)"
      ],
      "metadata": {
        "colab": {
          "base_uri": "https://localhost:8080/"
        },
        "id": "p7cQxAguKaT5",
        "outputId": "efda78bb-2a0c-431d-ac7b-674ea68827b6"
      },
      "execution_count": null,
      "outputs": [
        {
          "output_type": "stream",
          "name": "stdout",
          "text": [
            "--------------------------------------------------\n",
            "Configuração: n_estimators=10, max_depth=None\n",
            "Precisão: 0.9473\n",
            "Revocação: 0.9473\n",
            "F1-Score: 0.9473\n",
            "Matriz de Confusão:\n",
            "[[197  15]\n",
            " [ 15 342]]\n",
            "--------------------------------------------------\n",
            "Configuração: n_estimators=50, max_depth=10\n",
            "Precisão: 0.9542\n",
            "Revocação: 0.9543\n",
            "F1-Score: 0.9543\n",
            "Matriz de Confusão:\n",
            "[[198  14]\n",
            " [ 12 345]]\n",
            "--------------------------------------------------\n",
            "Configuração: n_estimators=100, max_depth=20\n",
            "Precisão: 0.9560\n",
            "Revocação: 0.9561\n",
            "F1-Score: 0.9560\n",
            "Matriz de Confusão:\n",
            "[[199  13]\n",
            " [ 12 345]]\n",
            "--------------------------------------------------\n",
            "Configuração: n_estimators=200, max_depth=None\n",
            "Precisão: 0.9542\n",
            "Revocação: 0.9543\n",
            "F1-Score: 0.9543\n",
            "Matriz de Confusão:\n",
            "[[198  14]\n",
            " [ 12 345]]\n"
          ]
        }
      ]
    },
    {
      "cell_type": "markdown",
      "metadata": {
        "deletable": false,
        "editable": false,
        "nbgrader": {
          "checksum": "c5c0a788bafbd1227adf600b857ee636",
          "grade": false,
          "grade_id": "cell-b8fab7f24e1b2a35",
          "locked": true,
          "schema_version": 1,
          "solution": false
        },
        "id": "27nDGLBAm64H"
      },
      "source": [
        "# Exercício 02:\n",
        "\n",
        "Use a knn para classificar as pacientes com e sem câncer.\n",
        "\n",
        "Para a questão, faça as seguintes tarefas:\n",
        "\n",
        "* Escolha e reporte resultados com 3 números de vizinhos diferentes (k)\n",
        "* Realize validação cruzada, com k-fold igual a 5 (para cada um dos k vizinhos)\n",
        "* Reporte a precisão, revocação, F1 e a matriz de confusão para cada configuração\n"
      ]
    },
    {
      "cell_type": "code",
      "source": [
        "# Definindo os valores de k para o KNN\n",
        "k_values = [3, 5, 7]\n",
        "\n",
        "# Separando os dados em features e target\n",
        "X = df[features]\n",
        "y = cancer.target\n",
        "\n",
        "# Loop pelos valores de k\n",
        "for k in k_values:\n",
        "    print(\"-\" * 50)\n",
        "    print(f\"Configuração: k = {k}\")\n",
        "\n",
        "    # Criando o modelo KNN\n",
        "    model = KNeighborsClassifier(n_neighbors=k)\n",
        "\n",
        "    # Validação cruzada estratificada\n",
        "    skf = StratifiedKFold(n_splits=SPLITS, shuffle=True, random_state=42)\n",
        "    y_pred = cross_val_predict(model, X, y, cv=skf)\n",
        "\n",
        "    # Calculando as métricas\n",
        "    precision = precision_score(y, y_pred, average='weighted')\n",
        "    recall = recall_score(y, y_pred, average='weighted')\n",
        "    f1 = f1_score(y, y_pred, average='weighted')\n",
        "    conf_mat = confusion_matrix(y, y_pred)\n",
        "\n",
        "    # Imprimindo os resultados\n",
        "    print(f\"Precisão: {precision:.4f}\")\n",
        "    print(f\"Revocação: {recall:.4f}\")\n",
        "    print(f\"F1-Score: {f1:.4f}\")\n",
        "    print(\"Matriz de Confusão:\")\n",
        "    print(conf_mat)"
      ],
      "metadata": {
        "colab": {
          "base_uri": "https://localhost:8080/"
        },
        "id": "Ld7iTMqoGRZ3",
        "outputId": "af655be7-b0d4-46a2-c0dc-12b2590d14c0"
      },
      "execution_count": null,
      "outputs": [
        {
          "output_type": "stream",
          "name": "stdout",
          "text": [
            "--------------------------------------------------\n",
            "Configuração: k = 3\n",
            "Precisão: 0.9277\n",
            "Revocação: 0.9279\n",
            "F1-Score: 0.9277\n",
            "Matriz de Confusão:\n",
            "[[188  24]\n",
            " [ 17 340]]\n",
            "--------------------------------------------------\n",
            "Configuração: k = 5\n",
            "Precisão: 0.9349\n",
            "Revocação: 0.9350\n",
            "F1-Score: 0.9347\n",
            "Matriz de Confusão:\n",
            "[[189  23]\n",
            " [ 14 343]]\n",
            "--------------------------------------------------\n",
            "Configuração: k = 7\n",
            "Precisão: 0.9280\n",
            "Revocação: 0.9279\n",
            "F1-Score: 0.9274\n",
            "Matriz de Confusão:\n",
            "[[185  27]\n",
            " [ 14 343]]\n"
          ]
        }
      ]
    },
    {
      "cell_type": "markdown",
      "source": [
        "# Exercício 03:\n",
        "\n",
        "Compare os resultados (F1 de cada método com cada configuração) em um gráfico. Qual foi o melhor método? Houve diferença significativa com as variações de parâmetros?"
      ],
      "metadata": {
        "id": "QWcCZPJtM2v3"
      }
    },
    {
      "cell_type": "code",
      "source": [
        "# Configurações para Random Forest\n",
        "rf_configs = [\n",
        "    (10, None, 'RF (10, None)'),\n",
        "    (50, 10, 'RF (50, 10)'),\n",
        "    (100, 20, 'RF (100, 20)'),\n",
        "    (200, None, 'RF (200, None)')\n",
        "]\n",
        "\n",
        "# Valores de k para KNN\n",
        "knn_k_values = [3, 5, 7]\n",
        "\n",
        "# Separando os dados em features e target\n",
        "X = df[features]\n",
        "y = cancer.target\n",
        "\n",
        "# Listas para armazenar os resultados do F1-Score\n",
        "rf_results = []\n",
        "knn_results = []\n",
        "\n",
        "# --- Random Forest ---\n",
        "print(\"\\n===== Random Forest =====\")\n",
        "for n_estimators, max_depth, label in rf_configs:\n",
        "    model = RandomForestClassifier(n_estimators=n_estimators, max_depth=max_depth, random_state=42)\n",
        "    skf = StratifiedKFold(n_splits=SPLITS, shuffle=True, random_state=42)\n",
        "    f1_scores = cross_val_score(model, X, y, cv=skf, scoring='f1_weighted')\n",
        "    rf_results.append((label, f1_scores))\n",
        "    print(f\"\\n{label}: F1-Score médio = {f1_scores.mean():.4f}\")\n",
        "\n",
        "# Comparações entre as Random Forests\n",
        "for i in range(len(rf_results) - 1):\n",
        "    for j in range(i + 1, len(rf_results)):\n",
        "        t_statistic, p_value = ttest_rel(rf_results[i][1], rf_results[j][1])\n",
        "        print(f\"\\nComparando {rf_results[i][0]} e {rf_results[j][0]}:\")\n",
        "        print(f\"  Estatística t: {t_statistic:.4f}\")\n",
        "        print(f\"  Valor-p: {p_value:.4f}\")\n",
        "        if p_value < 0.05:\n",
        "            print(\"  Conclusão: Diferença estatisticamente significativa\")\n",
        "        else:\n",
        "            print(\"  Conclusão: Não há diferença estatisticamente significativa\")\n",
        "\n",
        "# --- KNN ---\n",
        "print(\"\\n===== KNN =====\")\n",
        "for k in knn_k_values:\n",
        "    model = KNeighborsClassifier(n_neighbors=k)\n",
        "    skf = StratifiedKFold(n_splits=SPLITS, shuffle=True, random_state=42)\n",
        "    f1_scores = cross_val_score(model, X, y, cv=skf, scoring='f1_weighted')\n",
        "    knn_results.append((f'KNN (k={k})', f1_scores))\n",
        "    print(f\"\\nKNN (k={k}): F1-Score médio = {f1_scores.mean():.4f}\")\n",
        "\n",
        "# Comparações entre os KNNs\n",
        "for i in range(len(knn_results) - 1):\n",
        "    for j in range(i + 1, len(knn_results)):\n",
        "        t_statistic, p_value = ttest_rel(knn_results[i][1], knn_results[j][1])\n",
        "        print(f\"\\nComparando {knn_results[i][0]} e {knn_results[j][0]}:\")\n",
        "        print(f\"  Estatística t: {t_statistic:.4f}\")\n",
        "        print(f\"  Valor-p: {p_value:.4f}\")\n",
        "        if p_value < 0.05:\n",
        "            print(\"  Conclusão: Diferença estatisticamente significativa\")\n",
        "        else:\n",
        "            print(\"  Conclusão: Não há diferença estatisticamente significativa\")\n",
        "\n",
        "# --- Comparando o melhor Random Forest com o melhor KNN ---\n",
        "best_rf = max(rf_results, key=lambda x: x[1].mean())\n",
        "best_knn = max(knn_results, key=lambda x: x[1].mean())\n",
        "\n",
        "t_statistic, p_value = ttest_rel(best_rf[1], best_knn[1])\n",
        "print(f\"\\nComparando {best_rf[0]} e {best_knn[0]}:\")\n",
        "print(f\"  Estatística t: {t_statistic:.4f}\")\n",
        "print(f\"  Valor-p: {p_value:.4f}\")\n",
        "if p_value < 0.05:\n",
        "    print(\"  Conclusão: Diferença estatisticamente significativa\")\n",
        "else:\n",
        "    print(\"  Conclusão: Não há diferença estatisticamente significativa\")\n",
        "\n",
        "# --- Gráfico ---\n",
        "labels = [result[0] for result in rf_results + knn_results]\n",
        "f1_scores_mean = [result[1].mean() for result in rf_results + knn_results]\n",
        "\n",
        "plt.figure(figsize=(12, 6))\n",
        "plt.bar(labels, f1_scores_mean)\n",
        "plt.xlabel(\"Modelo e Configurações\")\n",
        "plt.ylabel(\"F1-Score Médio\")\n",
        "plt.title(\"Comparação de F1-Score entre Random Forest e KNN\")\n",
        "plt.xticks(rotation=45, ha='right')\n",
        "plt.tight_layout()\n",
        "plt.show()"
      ],
      "metadata": {
        "colab": {
          "base_uri": "https://localhost:8080/",
          "height": 1000
        },
        "id": "-CaV_QMqKN2G",
        "outputId": "a7a77332-d30e-4819-a237-16326666e442"
      },
      "execution_count": null,
      "outputs": [
        {
          "output_type": "stream",
          "name": "stdout",
          "text": [
            "\n",
            "===== Random Forest =====\n",
            "\n",
            "RF (10, None): F1-Score médio = 0.9472\n",
            "\n",
            "RF (50, 10): F1-Score médio = 0.9542\n",
            "\n",
            "RF (100, 20): F1-Score médio = 0.9560\n",
            "\n",
            "RF (200, None): F1-Score médio = 0.9542\n",
            "\n",
            "Comparando RF (10, None) e RF (50, 10):\n",
            "  Estatística t: -0.9171\n",
            "  Valor-p: 0.4110\n",
            "  Conclusão: Não há diferença estatisticamente significativa\n",
            "\n",
            "Comparando RF (10, None) e RF (100, 20):\n",
            "  Estatística t: -1.3958\n",
            "  Valor-p: 0.2353\n",
            "  Conclusão: Não há diferença estatisticamente significativa\n",
            "\n",
            "Comparando RF (10, None) e RF (200, None):\n",
            "  Estatística t: -0.9826\n",
            "  Valor-p: 0.3814\n",
            "  Conclusão: Não há diferença estatisticamente significativa\n",
            "\n",
            "Comparando RF (50, 10) e RF (100, 20):\n",
            "  Estatística t: -0.5551\n",
            "  Valor-p: 0.6084\n",
            "  Conclusão: Não há diferença estatisticamente significativa\n",
            "\n",
            "Comparando RF (50, 10) e RF (200, None):\n",
            "  Estatística t: -0.0056\n",
            "  Valor-p: 0.9958\n",
            "  Conclusão: Não há diferença estatisticamente significativa\n",
            "\n",
            "Comparando RF (100, 20) e RF (200, None):\n",
            "  Estatística t: 1.0000\n",
            "  Valor-p: 0.3739\n",
            "  Conclusão: Não há diferença estatisticamente significativa\n",
            "\n",
            "===== KNN =====\n",
            "\n",
            "KNN (k=3): F1-Score médio = 0.9275\n",
            "\n",
            "KNN (k=5): F1-Score médio = 0.9345\n",
            "\n",
            "KNN (k=7): F1-Score médio = 0.9272\n",
            "\n",
            "Comparando KNN (k=3) e KNN (k=5):\n",
            "  Estatística t: -1.0988\n",
            "  Valor-p: 0.3335\n",
            "  Conclusão: Não há diferença estatisticamente significativa\n",
            "\n",
            "Comparando KNN (k=3) e KNN (k=7):\n",
            "  Estatística t: 0.0526\n",
            "  Valor-p: 0.9606\n",
            "  Conclusão: Não há diferença estatisticamente significativa\n",
            "\n",
            "Comparando KNN (k=5) e KNN (k=7):\n",
            "  Estatística t: 3.9852\n",
            "  Valor-p: 0.0163\n",
            "  Conclusão: Diferença estatisticamente significativa\n",
            "\n",
            "Comparando RF (100, 20) e KNN (k=5):\n",
            "  Estatística t: 2.6338\n",
            "  Valor-p: 0.0580\n",
            "  Conclusão: Não há diferença estatisticamente significativa\n"
          ]
        },
        {
          "output_type": "display_data",
          "data": {
            "text/plain": [
              "<Figure size 1200x600 with 1 Axes>"
            ],
            "image/png": "[encoded data removed]"
          },
          "metadata": {}
        }
      ]
    },
    {
      "cell_type": "markdown",
      "source": [
        "Embora as diferenças sejam pequenas, o Random Forest com 100 estimadores e profundidade máxima 20 se mostrou a melhor escolha neste caso. A variação dos parâmetros no Random Forest não resultou em diferenças significativas, enquanto houve tal diferença com a mudança no número de vizinhos de 5 para 7 nos modelos KNN."
      ],
      "metadata": {
        "id": "zbylipQ0JCG5"
      }
    },
    {
      "cell_type": "markdown",
      "source": [
        "# Exercício 04:\n",
        "\n",
        "Escolha a melhor configuração/método e refaça o modelo, agora usando apenas 5 features. (Você pode selecionar aleatoriamente ou usar alguma metodologia de feature selection). O que aconteceu com a F1? Por quê?"
      ],
      "metadata": {
        "id": "mQEFIeXb83CT"
      }
    },
    {
      "cell_type": "code",
      "source": [
        "# Separando os dados em features e target\n",
        "X = df[features]\n",
        "y = cancer.target\n",
        "\n",
        "# --- Modelo completo (melhor Random Forest) ---\n",
        "best_model_full = RandomForestClassifier(n_estimators=100, max_depth=20, random_state=42)\n",
        "skf = StratifiedKFold(n_splits=SPLITS, shuffle=True, random_state=42)\n",
        "f1_scores_full = cross_val_score(best_model_full, X, y, cv=skf, scoring='f1_weighted')\n",
        "print(f\"\\nRF (100, 20) com todas features: F1-Score médio = {f1_scores_full.mean():.4f}\")\n",
        "\n",
        "# --- Modelo com 5 melhores features ---\n",
        "selector = SelectKBest(f_classif, k=5)\n",
        "X_new = selector.fit_transform(X, y)\n",
        "\n",
        "best_model_5features = RandomForestClassifier(n_estimators=100, max_depth=20, random_state=42)\n",
        "skf = StratifiedKFold(n_splits=SPLITS, shuffle=True, random_state=42)\n",
        "y_pred_new = cross_val_predict(best_model_5features, X_new, y, cv=skf)\n",
        "f1_scores_5features = cross_val_score(best_model_5features, X_new, y, cv=skf, scoring='f1_weighted')\n",
        "print(f\"RF (100, 20) com 5 melhores features: F1-Score médio = {f1_scores_5features.mean():.4f}\")\n",
        "\n",
        "# --- Teste t pareado entre o modelo completo e com 5 features ---\n",
        "t_statistic, p_value = ttest_rel(f1_scores_full, f1_scores_5features)\n",
        "print(f\"\\nComparando RF com todas features e RF com 5 features:\")\n",
        "print(f\"  Estatística t: {t_statistic:.4f}\")\n",
        "print(f\"  Valor-p: {p_value:.4f}\")\n",
        "if p_value < 0.05:\n",
        "    print(\"  Conclusão: Diferença estatisticamente significativa\")\n",
        "else:\n",
        "    print(\"  Conclusão: Não há diferença estatisticamente significativa\")"
      ],
      "metadata": {
        "colab": {
          "base_uri": "https://localhost:8080/"
        },
        "id": "4IOFALuYMQep",
        "outputId": "77560f7f-dd35-41ff-b029-d13b404cad9d"
      },
      "execution_count": null,
      "outputs": [
        {
          "output_type": "stream",
          "name": "stdout",
          "text": [
            "\n",
            "RF (100, 20) com todas features: F1-Score médio = 0.9560\n",
            "RF (100, 20) com 5 melhores features: F1-Score médio = 0.9398\n",
            "\n",
            "Comparando RF com todas features e RF com 5 features:\n",
            "  Estatística t: 1.6066\n",
            "  Valor-p: 0.1834\n",
            "  Conclusão: Não há diferença estatisticamente significativa\n"
          ]
        }
      ]
    },
    {
      "cell_type": "markdown",
      "source": [
        "O F1-score ficou levemente reduzido na comparação com o modelo completo. Com base no resultado acima, F1-scores sem diferenças significativas, temos que a redução de dimensionalidade foi bem sucedida."
      ],
      "metadata": {
        "id": "DGh0DMuaRjj9"
      }
    }
  ],
  "metadata": {
    "kernelspec": {
      "display_name": "Python 3",
      "language": "python",
      "name": "python3"
    },
    "language_info": {
      "codemirror_mode": {
        "name": "ipython",
        "version": 3
      },
      "file_extension": ".py",
      "mimetype": "text/x-python",
      "name": "python",
      "nbconvert_exporter": "python",
      "pygments_lexer": "ipython3",
      "version": "3.6.6"
    },
    "colab": {
      "provenance": [],
      "include_colab_link": true
    }
  },
  "nbformat": 4,
  "nbformat_minor": 0
}