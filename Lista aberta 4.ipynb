{
  "nbformat": 4,
  "nbformat_minor": 0,
  "metadata": {
    "colab": {
      "provenance": [],
      "include_colab_link": true
    },
    "kernelspec": {
      "name": "python3",
      "display_name": "Python 3"
    },
    "language_info": {
      "name": "python"
    }
  },
  "cells": [
    {
      "cell_type": "markdown",
      "metadata": {
        "id": "view-in-github",
        "colab_type": "text"
      },
      "source": [
        "<a href=\"https://colab.research.google.com/github/juliogdomingues/icd_ufmg/blob/main/Lista%20aberta%204.ipynb\" target=\"_parent\"><img src=\"https://colab.research.google.com/assets/colab-badge.svg\" alt=\"Open In Colab\"/></a>"
      ]
    },
    {
      "cell_type": "markdown",
      "metadata": {
        "id": "oV8iH-KSPpsa"
      },
      "source": [
        "# Intervalos de Confiança\n",
        "\n",
        "Neste notebook, vamos aprender a calcular intervalos de confiança."
      ]
    },
    {
      "cell_type": "markdown",
      "metadata": {
        "id": "l2mGxqXAQY2u"
      },
      "source": [
        "## Uma breve introdução\n",
        "\n",
        "Embora intervalos de confiança sejam amplamente usados, pode ser difícil entender seu conceito e quando devemos usá-lo. Então vamos a um exemplo:\n",
        "\n",
        "Suponha que você queira saber qual a porcentagem de pessoas nos Brasil que amam futebol. Para obter uma resposta 100% correta a essa pergunta, você deveria perguntar a cada um dos 212 milhões habitantes se eles amam ou não futebol. Obviamente, não é viável falar com 212 milhões de pessoas.\n",
        "\n",
        "Você poderia então obter uma amostra aleatória de brasileiros (falando com muito menos pessoas) para obter a porcentagem de pessoas que amam futebol nessa amostra. Contudo, assim não estaria 100% confiante de que esse número está certo ou quão longe esse número está da resposta real.\n",
        "\n",
        "Você poderia tentar obter um intervalo, como: “Tenho 95% de certeza que a porcentagem de pessoas que amam futebol nos EUA está entre 58% e 62%”. É daí que vem o nome Intervalo de confiança, temos um intervalo e temos alguma confiança sobre ele."
      ]
    },
    {
      "cell_type": "markdown",
      "metadata": {
        "id": "8gy3R7pTUQ-R"
      },
      "source": [
        "## Como calcular intervalos de confiança"
      ]
    },
    {
      "cell_type": "markdown",
      "metadata": {
        "id": "sx68L-PHVeiF"
      },
      "source": [
        "O cálculo do intervalo de confiança (ou CI, Confidence Interval) envolve a melhor estimativa obtida pela amostra (média ou mediana) e uma margem de erro. A margem de erro é calculada usando o Z-score para a confiança desejada multiplicada pelo desvio padrão amostral da média.\n"
      ]
    },
    {
      "cell_type": "markdown",
      "metadata": {
        "id": "BAYsaU2IWzkL"
      },
      "source": [
        "![image.png](data:image/png;base64,iVBORw0KGgoAAAANSUhEUgAAAFAAAAA/CAYAAAB3s08iAAADtUlEQVR4Ae2a7XHkIAyGmbl/mSthtxH3cS24HlfjHlKDG7k/N7oRnwJjApKTTWxlZieEICMei1fCXgP6IyJgRNZqDApQGAQKUAEKCQjNNQIVoJCA0FwjUAEKCQjNNQIVoJCA0FwjUAEKCQjNNQIV4CiBDZbJgDHp89vMsI5exo+/WQQ6eL/mhGtbJlCA3dGzwh9jYFq2ZLEtME0LkJ70v47WLSNQEnEl05sBBIBtsVGIGphFYkmm8282wL//Omf4psPW2SURqoccV9kAOZO91GZboIQlTSC4ngOATmyfzyeEz+PxgLe3N5/+J6A6/FIwvZOvMxhD/fbljCCBNAD2evWDxhHtizWgEN69AH7Svd5vYRvqqUqPNSfpP7MMaK6rFjXkBGFOiKDm/B3/3AO0mX6yWpen+XAEojrSMYO/XingXZY73UIrvh9dcw4OqgIMtVIG0EdDjMiBiTDbcQBiqZH5QG4ux48Bl7uH1gH6u5wW7e56uZjeWbgAd9f3NzH5tRvx5R0HAAGAbB+MBInT5wB0pdWX6W/nrTgGCM5hTPkSeOjHGQDdyWFcfzs5sIc1AGIQGhjNdG6hKYvHmotmz9DuzaK+AuBKCJtOh+EhQIyasHipYIsicED3gr+f8fuIZR0g3nEbHe/2ycXrtrBLXt9N9yjMPUB8wEjOjLglpQvgRmCQg3wHrDALHsHTxZ/RLgC6xJE57PUn6xucmQXwQPestPRq56CfnOEEoK/wS+fCcarsH5htHKCvAMo5B/Sw7V6qMEb0snbNCBDfFbiL0VIhHJvOefhYc2Dfl89ZW6BkN9j5hO9BqM8RIO2UtINu1Ra+6ysjTDLxgC3uiLNKotMBDqzjRUMxwukuk7lxQ4DnZvH7AVxn8dGUxuztAKJGi5MQIXgzgHX9C4kvHRhImfNBorsXwF354komG5G2cJ9gWZd08uo4RFwSIEZU7fzeLF88rOzpU4Da+OLMpQCGrYj1ZtqOSbBa+mePiOQZAFphX+066YqHL9bpkB/Y9tGUF8ut8sWffjK9q/XtWVwqAtPyKotvli8uaZTAd1+FSxPE1kUBuu2HWzmULD36F8ZaOh0JBMddFiCEdzp2W743j281/aMv1bBdS0oXBxii0JUmrW+h2uST6R+iSbXgEbzLAwxfEMCt3IKAILg/F97CDkkobTJ949Kq2F0eIEbhR7VchUt31/UBdqPgDVSAPG7RSgFGFLyGAuRxi1YKMKLgNRQgj1u0UoARBa+hAHncopUCjCh4jf/snXhXpa+fLgAAAABJRU5ErkJggg==)\n",
        "\n",
        "\n"
      ]
    },
    {
      "cell_type": "markdown",
      "metadata": {
        "id": "DmUv_lmuEeeh"
      },
      "source": [
        "Em que ![image.png](data:image/png;base64,iVBORw0KGgoAAAANSUhEUgAAABIAAAATCAYAAACdkl3yAAAA8klEQVQ4EbWU0Q3DIAxELfUv6gjJIuzRFZiHadihMzDMVcaGxsRJ2iqNFCEMPM6HgXDRRz4n40GEZVn6P88zpmkCEYEoIBW7cgdkJ33S+yMoR5XPKRBiVj2r+J0iWripdRWVFCokGCMKUvD9YZgLQknVbAPSWFfYpGjrgyC73/oq6RvwZyAA1RM55hwJb+hAOFbEo1JLbPgZhGfvpCbbsBIKCUPtqQbb7ILayZkSsGtNzwexP1XJs57eb6mVhLC6S5yeV4BGztYjMbifOs/WijaxkWJBWrmjuVqIZ6Z3j/jZ2D4R7VrI2JFXHeSo/Sp0GegFmwS5SCQHnhUAAAAASUVORK5CYII=) é a média amostral, Z é o valor de Z-score associado ao nível de confiança desejado, e ![image.png](data:image/png;base64,iVBORw0KGgoAAAANSUhEUgAAAB0AAAAsCAYAAACZtbMHAAABzElEQVRYCe2X623EIAyALfVvJ2KPrsA8TMMOnYFhXBkCGOJwNrnqdNJVuiqQ4M9PMIAv+IMXMPEdoAmDAwTov2/wGI3uMlhagF++I1Jw+M/QiD8A6ELqdqWAzgVkM/3d4sls6Y5lM98ARcQUsrUU08HiWeqDsQ16CIu+JBKP7wPO8FoHTQFnwG4SEV0HjR4BHPYcOkpnI4n0UBbLVqObQD10iMj9gc699zmDhA90cMezBx/3Ptujg7zm3lb07IB+1txAVG+D86qb42bpTTmm5e8CLW2LNd7cFXZLN/uiW1A6vO+0KgQ3WkqHNz/Muf76ZyM0ot9ormd1bNDoT73SLFAzNkGpC2QNvka++I0BKseztqO9CWclddFH6aGnUikdYba8dosx9LtNnpM9c4KS5nOPSz5alsoBAG5ZVUS46DRodRPtNN1VPSSreJJCY19clJTkkMQGbeIPrccNYFUqUuMtzTWCAEVhwbJUhCskSnNLaHENubmWhyae9dssepFE9P7s3rKqXAlzYvwutz4pnsiTSPDSBbRa6zDE9W07JyDPWq40yJVwCeUXYKmEsuzNf9dQRKxlNMRrE8SXLaFk7VWtcSHW5zXUKk35/R8miVsZezHRigAAAABJRU5ErkJggg==) é o desvio padrão amostral da média."
      ]
    },
    {
      "cell_type": "markdown",
      "metadata": {
        "id": "uwHWVH4KXdsM"
      },
      "source": [
        "Aqui estão os z-scores para os níveis de confiança mais comuns:"
      ]
    },
    {
      "cell_type": "markdown",
      "metadata": {
        "id": "3ioFY0V3XwP3"
      },
      "source": [
        "Confiança | Z\n",
        "\n",
        "75%       | 1.15\n",
        "\n",
        "90%       | 1.64\n",
        "\n",
        "95%       | 1.96\n",
        "\n",
        "99%       | 2.57"
      ]
    },
    {
      "cell_type": "markdown",
      "metadata": {
        "id": "pZQQYw8IYy0E"
      },
      "source": [
        "## Vamos ao código!"
      ]
    },
    {
      "cell_type": "code",
      "metadata": {
        "id": "DoW5tEl7ron2"
      },
      "source": [
        "import pandas as pd\n",
        "import numpy as np"
      ],
      "execution_count": 1,
      "outputs": []
    },
    {
      "cell_type": "markdown",
      "metadata": {
        "id": "w5gPkU_mY3S3"
      },
      "source": [
        "## Base de dados\n",
        "Para este exercício, vamos utilizar uma base de dados do site [basedosdados.org](https://basedosdados.org), uma organização colaborativa que cataloga e divulga dados públicos brasileiros. Vocês podem usar esse site para buscar bases para projetos acadêmicos, sempre que necessitarem. Outro exemplo de site de reúne bases abertas (nesse caso, americanas) é o [UCI](https://archive.ics.uci.edu/ml/index.php)."
      ]
    },
    {
      "cell_type": "markdown",
      "metadata": {
        "id": "PK_W3lKVm9N9"
      },
      "source": [
        "Vamos usar a base de \"Indicadores de Mobilidade e Transportes em 2010\" para analisar os dados sobre tempo médio de deslocamento casa-trabalho para o ano de 2010.\n",
        "\n",
        "Para usar o arquivo, podemos usar duas opções: (1)  baixar o csv e importá-lo (usando pandas), ou (2) usar diretamente o pacote do basededados."
      ]
    },
    {
      "cell_type": "markdown",
      "metadata": {
        "id": "YgGzuKpXpK37"
      },
      "source": [
        "### Opção 1:\n",
        "Baixar a tabela 'tempo_deslocamento_casa_trabalho' em https://basedosdados.org/dataset/br-mobilidados-indicadores, adicionar em Files (menu da esquerda) e importar com pandas"
      ]
    },
    {
      "cell_type": "code",
      "metadata": {
        "id": "b2jzaNJbpGBB"
      },
      "source": [
        "df = pd.read_csv(\"/content/tempo_deslocamento_casa_trabalho.csv\")"
      ],
      "execution_count": 2,
      "outputs": []
    },
    {
      "cell_type": "markdown",
      "metadata": {
        "id": "JPE1JAOMpXFD"
      },
      "source": [
        "### Opção 2:\n",
        "Instalar o pacote basedosdados, e importar a base diretamente. Mais detalhes em: https://basedosdados.github.io/mais/access_data_packages/#primeiros-passos.\n",
        "\n",
        "Vocês terão que criar um projeto em https://console.cloud.google.com/projectselector2/home/dashboard?pli=1 para pegar o billing_project_id (ID do projeto)"
      ]
    },
    {
      "cell_type": "code",
      "metadata": {
        "id": "2LtkuGTKnZE1",
        "colab": {
          "base_uri": "https://localhost:8080/",
          "height": 1000
        },
        "outputId": "6b4c6921-0512-4269-a2fc-fb084f3fc04a"
      },
      "source": [
        "!pip install basedosdados\n",
        "import basedosdados as bd\n",
        "# Para carregar o dado direto no pandas\n",
        "df = bd.read_table(dataset_id='br_mobilidados_indicadores',\n",
        "            table_id='tempo_deslocamento_casa_trabalho',\\\n",
        "            # billing_project_id=<ID_PROJETO>)#colocar aqui o ID do projeto do gcloud\n",
        "            billing_project_id='censo-331617')\n"
      ],
      "execution_count": 3,
      "outputs": [
        {
          "output_type": "stream",
          "name": "stdout",
          "text": [
            "Requirement already satisfied: basedosdados in /usr/local/lib/python3.10/dist-packages (1.6.11)\n",
            "Requirement already satisfied: Jinja2==3.0.3 in /usr/local/lib/python3.10/dist-packages (from basedosdados) (3.0.3)\n",
            "Requirement already satisfied: ckanapi==4.6 in /usr/local/lib/python3.10/dist-packages (from basedosdados) (4.6)\n",
            "Requirement already satisfied: click==8.0.3 in /usr/local/lib/python3.10/dist-packages (from basedosdados) (8.0.3)\n",
            "Requirement already satisfied: google-cloud-bigquery==2.30.1 in /usr/local/lib/python3.10/dist-packages (from basedosdados) (2.30.1)\n",
            "Requirement already satisfied: google-cloud-bigquery-storage==1.1.0 in /usr/local/lib/python3.10/dist-packages (from basedosdados) (1.1.0)\n",
            "Requirement already satisfied: google-cloud-storage==1.42.3 in /usr/local/lib/python3.10/dist-packages (from basedosdados) (1.42.3)\n",
            "Requirement already satisfied: importlib-metadata<5.0.0,>=4.11.3 in /usr/local/lib/python3.10/dist-packages (from basedosdados) (4.13.0)\n",
            "Requirement already satisfied: loguru<0.7.0,>=0.6.0 in /usr/local/lib/python3.10/dist-packages (from basedosdados) (0.6.0)\n",
            "Requirement already satisfied: pandas<2.0.0,>=1.3.5 in /usr/local/lib/python3.10/dist-packages (from basedosdados) (1.5.3)\n",
            "Requirement already satisfied: pandas-gbq<0.18.0,>=0.17.4 in /usr/local/lib/python3.10/dist-packages (from basedosdados) (0.17.9)\n",
            "Requirement already satisfied: pandavro<2.0.0,>=1.6.0 in /usr/local/lib/python3.10/dist-packages (from basedosdados) (1.8.0)\n",
            "Requirement already satisfied: pyaml==20.4.0 in /usr/local/lib/python3.10/dist-packages (from basedosdados) (20.4.0)\n",
            "Requirement already satisfied: pyarrow==6.0.0 in /usr/local/lib/python3.10/dist-packages (from basedosdados) (6.0.0)\n",
            "Requirement already satisfied: ruamel.yaml==0.17.10 in /usr/local/lib/python3.10/dist-packages (from basedosdados) (0.17.10)\n",
            "Requirement already satisfied: shapely<2.0.0,>=1.6.0 in /usr/local/lib/python3.10/dist-packages (from basedosdados) (1.8.5.post1)\n",
            "Requirement already satisfied: toml<0.11.0,>=0.10.2 in /usr/local/lib/python3.10/dist-packages (from basedosdados) (0.10.2)\n",
            "Requirement already satisfied: tomlkit==0.7.0 in /usr/local/lib/python3.10/dist-packages (from basedosdados) (0.7.0)\n",
            "Requirement already satisfied: tqdm==4.50.2 in /usr/local/lib/python3.10/dist-packages (from basedosdados) (4.50.2)\n",
            "Requirement already satisfied: setuptools in /usr/local/lib/python3.10/dist-packages (from ckanapi==4.6->basedosdados) (67.7.2)\n",
            "Requirement already satisfied: docopt in /usr/local/lib/python3.10/dist-packages (from ckanapi==4.6->basedosdados) (0.6.2)\n",
            "Requirement already satisfied: requests in /usr/local/lib/python3.10/dist-packages (from ckanapi==4.6->basedosdados) (2.31.0)\n",
            "Requirement already satisfied: python-slugify>=1.0 in /usr/local/lib/python3.10/dist-packages (from ckanapi==4.6->basedosdados) (8.0.4)\n",
            "Requirement already satisfied: six<2.0,>=1.9 in /usr/local/lib/python3.10/dist-packages (from ckanapi==4.6->basedosdados) (1.16.0)\n",
            "Requirement already satisfied: grpcio<2.0dev,>=1.38.1 in /usr/local/lib/python3.10/dist-packages (from google-cloud-bigquery==2.30.1->basedosdados) (1.62.2)\n",
            "Requirement already satisfied: google-api-core[grpc]<3.0.0dev,>=1.29.0 in /usr/local/lib/python3.10/dist-packages (from google-cloud-bigquery==2.30.1->basedosdados) (1.34.1)\n",
            "Requirement already satisfied: proto-plus>=1.10.0 in /usr/local/lib/python3.10/dist-packages (from google-cloud-bigquery==2.30.1->basedosdados) (1.23.0)\n",
            "Requirement already satisfied: google-cloud-core<3.0.0dev,>=1.4.1 in /usr/local/lib/python3.10/dist-packages (from google-cloud-bigquery==2.30.1->basedosdados) (2.3.3)\n",
            "Requirement already satisfied: google-resumable-media<3.0dev,>=0.6.0 in /usr/local/lib/python3.10/dist-packages (from google-cloud-bigquery==2.30.1->basedosdados) (2.7.0)\n",
            "Requirement already satisfied: packaging>=14.3 in /usr/local/lib/python3.10/dist-packages (from google-cloud-bigquery==2.30.1->basedosdados) (24.0)\n",
            "Requirement already satisfied: protobuf>=3.12.0 in /usr/local/lib/python3.10/dist-packages (from google-cloud-bigquery==2.30.1->basedosdados) (3.20.3)\n",
            "Requirement already satisfied: python-dateutil<3.0dev,>=2.7.2 in /usr/local/lib/python3.10/dist-packages (from google-cloud-bigquery==2.30.1->basedosdados) (2.8.2)\n",
            "Requirement already satisfied: google-auth<3.0dev,>=1.25.0 in /usr/local/lib/python3.10/dist-packages (from google-cloud-storage==1.42.3->basedosdados) (2.27.0)\n",
            "Requirement already satisfied: MarkupSafe>=2.0 in /usr/local/lib/python3.10/dist-packages (from Jinja2==3.0.3->basedosdados) (2.1.5)\n",
            "Requirement already satisfied: PyYAML in /usr/local/lib/python3.10/dist-packages (from pyaml==20.4.0->basedosdados) (6.0.1)\n",
            "Requirement already satisfied: numpy>=1.16.6 in /usr/local/lib/python3.10/dist-packages (from pyarrow==6.0.0->basedosdados) (1.25.2)\n",
            "Requirement already satisfied: zipp>=0.5 in /usr/local/lib/python3.10/dist-packages (from importlib-metadata<5.0.0,>=4.11.3->basedosdados) (3.18.1)\n",
            "Requirement already satisfied: pytz>=2020.1 in /usr/local/lib/python3.10/dist-packages (from pandas<2.0.0,>=1.3.5->basedosdados) (2023.4)\n",
            "Requirement already satisfied: db-dtypes<2.0.0,>=0.3.1 in /usr/local/lib/python3.10/dist-packages (from pandas-gbq<0.18.0,>=0.17.4->basedosdados) (1.2.0)\n",
            "Requirement already satisfied: pydata-google-auth in /usr/local/lib/python3.10/dist-packages (from pandas-gbq<0.18.0,>=0.17.4->basedosdados) (1.8.2)\n",
            "Requirement already satisfied: google-auth-oauthlib>=0.0.1 in /usr/local/lib/python3.10/dist-packages (from pandas-gbq<0.18.0,>=0.17.4->basedosdados) (1.2.0)\n",
            "Requirement already satisfied: fastavro<2.0.0,>=1.5.1 in /usr/local/lib/python3.10/dist-packages (from pandavro<2.0.0,>=1.6.0->basedosdados) (1.9.4)\n",
            "Requirement already satisfied: googleapis-common-protos<2.0dev,>=1.56.2 in /usr/local/lib/python3.10/dist-packages (from google-api-core[grpc]<3.0.0dev,>=1.29.0->google-cloud-bigquery==2.30.1->basedosdados) (1.63.0)\n",
            "Requirement already satisfied: grpcio-status<2.0dev,>=1.33.2 in /usr/local/lib/python3.10/dist-packages (from google-api-core[grpc]<3.0.0dev,>=1.29.0->google-cloud-bigquery==2.30.1->basedosdados) (1.48.2)\n",
            "Requirement already satisfied: cachetools<6.0,>=2.0.0 in /usr/local/lib/python3.10/dist-packages (from google-auth<3.0dev,>=1.25.0->google-cloud-storage==1.42.3->basedosdados) (5.3.3)\n",
            "Requirement already satisfied: pyasn1-modules>=0.2.1 in /usr/local/lib/python3.10/dist-packages (from google-auth<3.0dev,>=1.25.0->google-cloud-storage==1.42.3->basedosdados) (0.4.0)\n",
            "Requirement already satisfied: rsa<5,>=3.1.4 in /usr/local/lib/python3.10/dist-packages (from google-auth<3.0dev,>=1.25.0->google-cloud-storage==1.42.3->basedosdados) (4.9)\n",
            "Requirement already satisfied: requests-oauthlib>=0.7.0 in /usr/local/lib/python3.10/dist-packages (from google-auth-oauthlib>=0.0.1->pandas-gbq<0.18.0,>=0.17.4->basedosdados) (1.3.1)\n",
            "Requirement already satisfied: google-crc32c<2.0dev,>=1.0 in /usr/local/lib/python3.10/dist-packages (from google-resumable-media<3.0dev,>=0.6.0->google-cloud-bigquery==2.30.1->basedosdados) (1.5.0)\n",
            "Requirement already satisfied: text-unidecode>=1.3 in /usr/local/lib/python3.10/dist-packages (from python-slugify>=1.0->ckanapi==4.6->basedosdados) (1.3)\n",
            "Requirement already satisfied: charset-normalizer<4,>=2 in /usr/local/lib/python3.10/dist-packages (from requests->ckanapi==4.6->basedosdados) (3.3.2)\n",
            "Requirement already satisfied: idna<4,>=2.5 in /usr/local/lib/python3.10/dist-packages (from requests->ckanapi==4.6->basedosdados) (3.7)\n",
            "Requirement already satisfied: urllib3<3,>=1.21.1 in /usr/local/lib/python3.10/dist-packages (from requests->ckanapi==4.6->basedosdados) (2.0.7)\n",
            "Requirement already satisfied: certifi>=2017.4.17 in /usr/local/lib/python3.10/dist-packages (from requests->ckanapi==4.6->basedosdados) (2024.2.2)\n",
            "Requirement already satisfied: pyasn1<0.7.0,>=0.4.6 in /usr/local/lib/python3.10/dist-packages (from pyasn1-modules>=0.2.1->google-auth<3.0dev,>=1.25.0->google-cloud-storage==1.42.3->basedosdados) (0.6.0)\n",
            "Requirement already satisfied: oauthlib>=3.0.0 in /usr/local/lib/python3.10/dist-packages (from requests-oauthlib>=0.7.0->google-auth-oauthlib>=0.0.1->pandas-gbq<0.18.0,>=0.17.4->basedosdados) (3.2.2)\n"
          ]
        },
        {
          "output_type": "error",
          "ename": "MessageError",
          "evalue": "Error: credential propagation was unsuccessful",
          "traceback": [
            "\u001b[0;31m---------------------------------------------------------------------------\u001b[0m",
            "\u001b[0;31mMessageError\u001b[0m                              Traceback (most recent call last)",
            "\u001b[0;32m<ipython-input-3-bc032a701246>\u001b[0m in \u001b[0;36m<cell line: 4>\u001b[0;34m()\u001b[0m\n\u001b[1;32m      2\u001b[0m \u001b[0;32mimport\u001b[0m \u001b[0mbasedosdados\u001b[0m \u001b[0;32mas\u001b[0m \u001b[0mbd\u001b[0m\u001b[0;34m\u001b[0m\u001b[0;34m\u001b[0m\u001b[0m\n\u001b[1;32m      3\u001b[0m \u001b[0;31m# Para carregar o dado direto no pandas\u001b[0m\u001b[0;34m\u001b[0m\u001b[0;34m\u001b[0m\u001b[0m\n\u001b[0;32m----> 4\u001b[0;31m df = bd.read_table(dataset_id='br_mobilidados_indicadores',\n\u001b[0m\u001b[1;32m      5\u001b[0m             \u001b[0mtable_id\u001b[0m\u001b[0;34m=\u001b[0m\u001b[0;34m'tempo_deslocamento_casa_trabalho'\u001b[0m\u001b[0;34m,\u001b[0m\u001b[0;31m\\\u001b[0m\u001b[0;34m\u001b[0m\u001b[0;34m\u001b[0m\u001b[0m\n\u001b[1;32m      6\u001b[0m             \u001b[0;31m# billing_project_id=<ID_PROJETO>)#colocar aqui o ID do projeto do gcloud\u001b[0m\u001b[0;34m\u001b[0m\u001b[0;34m\u001b[0m\u001b[0m\n",
            "\u001b[0;32m/usr/local/lib/python3.10/dist-packages/basedosdados/download/download.py\u001b[0m in \u001b[0;36mread_table\u001b[0;34m(dataset_id, table_id, billing_project_id, query_project_id, limit, from_file, reauth, use_bqstorage_api)\u001b[0m\n\u001b[1;32m    161\u001b[0m         \u001b[0;32mraise\u001b[0m \u001b[0mBaseDosDadosException\u001b[0m\u001b[0;34m(\u001b[0m\u001b[0;34m\"Both table_id and dataset_id should be filled.\"\u001b[0m\u001b[0;34m)\u001b[0m\u001b[0;34m\u001b[0m\u001b[0;34m\u001b[0m\u001b[0m\n\u001b[1;32m    162\u001b[0m \u001b[0;34m\u001b[0m\u001b[0m\n\u001b[0;32m--> 163\u001b[0;31m     return read_sql(\n\u001b[0m\u001b[1;32m    164\u001b[0m         \u001b[0mquery\u001b[0m\u001b[0;34m,\u001b[0m\u001b[0;34m\u001b[0m\u001b[0;34m\u001b[0m\u001b[0m\n\u001b[1;32m    165\u001b[0m         \u001b[0mbilling_project_id\u001b[0m\u001b[0;34m=\u001b[0m\u001b[0mbilling_project_id\u001b[0m\u001b[0;34m,\u001b[0m\u001b[0;34m\u001b[0m\u001b[0;34m\u001b[0m\u001b[0m\n",
            "\u001b[0;32m/usr/local/lib/python3.10/dist-packages/basedosdados/download/download.py\u001b[0m in \u001b[0;36mread_sql\u001b[0;34m(query, billing_project_id, from_file, reauth, use_bqstorage_api)\u001b[0m\n\u001b[1;32m     82\u001b[0m         return pandas_gbq.read_gbq(\n\u001b[1;32m     83\u001b[0m             \u001b[0mquery\u001b[0m\u001b[0;34m,\u001b[0m\u001b[0;34m\u001b[0m\u001b[0;34m\u001b[0m\u001b[0m\n\u001b[0;32m---> 84\u001b[0;31m             \u001b[0mcredentials\u001b[0m\u001b[0;34m=\u001b[0m\u001b[0mcredentials\u001b[0m\u001b[0;34m(\u001b[0m\u001b[0mfrom_file\u001b[0m\u001b[0;34m=\u001b[0m\u001b[0mfrom_file\u001b[0m\u001b[0;34m,\u001b[0m \u001b[0mreauth\u001b[0m\u001b[0;34m=\u001b[0m\u001b[0mreauth\u001b[0m\u001b[0;34m)\u001b[0m\u001b[0;34m,\u001b[0m\u001b[0;34m\u001b[0m\u001b[0;34m\u001b[0m\u001b[0m\n\u001b[0m\u001b[1;32m     85\u001b[0m             \u001b[0mproject_id\u001b[0m\u001b[0;34m=\u001b[0m\u001b[0mbilling_project_id\u001b[0m\u001b[0;34m,\u001b[0m\u001b[0;34m\u001b[0m\u001b[0;34m\u001b[0m\u001b[0m\n\u001b[1;32m     86\u001b[0m             \u001b[0muse_bqstorage_api\u001b[0m\u001b[0;34m=\u001b[0m\u001b[0muse_bqstorage_api\u001b[0m\u001b[0;34m,\u001b[0m\u001b[0;34m\u001b[0m\u001b[0;34m\u001b[0m\u001b[0m\n",
            "\u001b[0;32m/usr/local/lib/python3.10/dist-packages/basedosdados/download/base.py\u001b[0m in \u001b[0;36mcredentials\u001b[0;34m(from_file, reauth)\u001b[0m\n\u001b[1;32m     38\u001b[0m         \u001b[0;32mfrom\u001b[0m \u001b[0mgoogle\u001b[0m\u001b[0;34m.\u001b[0m\u001b[0mcolab\u001b[0m \u001b[0;32mimport\u001b[0m \u001b[0mauth\u001b[0m  \u001b[0;31m# pylint: disable=import-outside-toplevel\u001b[0m\u001b[0;34m\u001b[0m\u001b[0;34m\u001b[0m\u001b[0m\n\u001b[1;32m     39\u001b[0m \u001b[0;34m\u001b[0m\u001b[0m\n\u001b[0;32m---> 40\u001b[0;31m         \u001b[0mauth\u001b[0m\u001b[0;34m.\u001b[0m\u001b[0mauthenticate_user\u001b[0m\u001b[0;34m(\u001b[0m\u001b[0;34m)\u001b[0m\u001b[0;34m\u001b[0m\u001b[0;34m\u001b[0m\u001b[0m\n\u001b[0m\u001b[1;32m     41\u001b[0m         \u001b[0;32mreturn\u001b[0m \u001b[0;32mNone\u001b[0m\u001b[0;34m\u001b[0m\u001b[0;34m\u001b[0m\u001b[0m\n\u001b[1;32m     42\u001b[0m \u001b[0;34m\u001b[0m\u001b[0m\n",
            "\u001b[0;32m/usr/local/lib/python3.10/dist-packages/google/colab/auth.py\u001b[0m in \u001b[0;36mauthenticate_user\u001b[0;34m(clear_output, project_id)\u001b[0m\n\u001b[1;32m    279\u001b[0m   \u001b[0;32mif\u001b[0m \u001b[0;32mnot\u001b[0m \u001b[0m_check_adc\u001b[0m\u001b[0;34m(\u001b[0m\u001b[0m_CredentialType\u001b[0m\u001b[0;34m.\u001b[0m\u001b[0mUSER\u001b[0m\u001b[0;34m)\u001b[0m\u001b[0;34m:\u001b[0m\u001b[0;34m\u001b[0m\u001b[0;34m\u001b[0m\u001b[0m\n\u001b[1;32m    280\u001b[0m     \u001b[0;32mif\u001b[0m \u001b[0muse_auth_ephem\u001b[0m\u001b[0;34m:\u001b[0m\u001b[0;34m\u001b[0m\u001b[0;34m\u001b[0m\u001b[0m\n\u001b[0;32m--> 281\u001b[0;31m       _message.blocking_request(\n\u001b[0m\u001b[1;32m    282\u001b[0m           \u001b[0;34m'request_auth'\u001b[0m\u001b[0;34m,\u001b[0m\u001b[0;34m\u001b[0m\u001b[0;34m\u001b[0m\u001b[0m\n\u001b[1;32m    283\u001b[0m           \u001b[0mrequest\u001b[0m\u001b[0;34m=\u001b[0m\u001b[0;34m{\u001b[0m\u001b[0;34m'authType'\u001b[0m\u001b[0;34m:\u001b[0m \u001b[0;34m'auth_user_ephemeral'\u001b[0m\u001b[0;34m}\u001b[0m\u001b[0;34m,\u001b[0m\u001b[0;34m\u001b[0m\u001b[0;34m\u001b[0m\u001b[0m\n",
            "\u001b[0;32m/usr/local/lib/python3.10/dist-packages/google/colab/_message.py\u001b[0m in \u001b[0;36mblocking_request\u001b[0;34m(request_type, request, timeout_sec, parent)\u001b[0m\n\u001b[1;32m    174\u001b[0m       \u001b[0mrequest_type\u001b[0m\u001b[0;34m,\u001b[0m \u001b[0mrequest\u001b[0m\u001b[0;34m,\u001b[0m \u001b[0mparent\u001b[0m\u001b[0;34m=\u001b[0m\u001b[0mparent\u001b[0m\u001b[0;34m,\u001b[0m \u001b[0mexpect_reply\u001b[0m\u001b[0;34m=\u001b[0m\u001b[0;32mTrue\u001b[0m\u001b[0;34m\u001b[0m\u001b[0;34m\u001b[0m\u001b[0m\n\u001b[1;32m    175\u001b[0m   )\n\u001b[0;32m--> 176\u001b[0;31m   \u001b[0;32mreturn\u001b[0m \u001b[0mread_reply_from_input\u001b[0m\u001b[0;34m(\u001b[0m\u001b[0mrequest_id\u001b[0m\u001b[0;34m,\u001b[0m \u001b[0mtimeout_sec\u001b[0m\u001b[0;34m)\u001b[0m\u001b[0;34m\u001b[0m\u001b[0;34m\u001b[0m\u001b[0m\n\u001b[0m",
            "\u001b[0;32m/usr/local/lib/python3.10/dist-packages/google/colab/_message.py\u001b[0m in \u001b[0;36mread_reply_from_input\u001b[0;34m(message_id, timeout_sec)\u001b[0m\n\u001b[1;32m    101\u001b[0m     ):\n\u001b[1;32m    102\u001b[0m       \u001b[0;32mif\u001b[0m \u001b[0;34m'error'\u001b[0m \u001b[0;32min\u001b[0m \u001b[0mreply\u001b[0m\u001b[0;34m:\u001b[0m\u001b[0;34m\u001b[0m\u001b[0;34m\u001b[0m\u001b[0m\n\u001b[0;32m--> 103\u001b[0;31m         \u001b[0;32mraise\u001b[0m \u001b[0mMessageError\u001b[0m\u001b[0;34m(\u001b[0m\u001b[0mreply\u001b[0m\u001b[0;34m[\u001b[0m\u001b[0;34m'error'\u001b[0m\u001b[0;34m]\u001b[0m\u001b[0;34m)\u001b[0m\u001b[0;34m\u001b[0m\u001b[0;34m\u001b[0m\u001b[0m\n\u001b[0m\u001b[1;32m    104\u001b[0m       \u001b[0;32mreturn\u001b[0m \u001b[0mreply\u001b[0m\u001b[0;34m.\u001b[0m\u001b[0mget\u001b[0m\u001b[0;34m(\u001b[0m\u001b[0;34m'data'\u001b[0m\u001b[0;34m,\u001b[0m \u001b[0;32mNone\u001b[0m\u001b[0;34m)\u001b[0m\u001b[0;34m\u001b[0m\u001b[0;34m\u001b[0m\u001b[0m\n\u001b[1;32m    105\u001b[0m \u001b[0;34m\u001b[0m\u001b[0m\n",
            "\u001b[0;31mMessageError\u001b[0m: Error: credential propagation was unsuccessful"
          ]
        }
      ]
    },
    {
      "cell_type": "code",
      "metadata": {
        "id": "XJwqVNnr9BQY"
      },
      "source": [
        "df"
      ],
      "execution_count": null,
      "outputs": []
    },
    {
      "cell_type": "markdown",
      "metadata": {
        "id": "_nL4_4PEaawP"
      },
      "source": [
        "Antes de começarmos a análise, é importante explorar se há valores faltantes."
      ]
    },
    {
      "cell_type": "code",
      "metadata": {
        "id": "D2yqkkLNan8S"
      },
      "source": [
        "df['tempo_medio_deslocamento'].isnull().sum()"
      ],
      "execution_count": null,
      "outputs": []
    },
    {
      "cell_type": "markdown",
      "metadata": {
        "id": "SiR5qAW2bjco"
      },
      "source": [
        "Não há valores faltantes."
      ]
    },
    {
      "cell_type": "markdown",
      "metadata": {
        "id": "Qy6G6B-U-mY7"
      },
      "source": [
        "### Vamos calcular o intervalo de confiança para o tempo medio de deslocamento no estado de MG para um nível de confiança de 95%."
      ]
    },
    {
      "cell_type": "code",
      "metadata": {
        "id": "SF-lNDIE-iEq",
        "colab": {
          "base_uri": "https://localhost:8080/"
        },
        "outputId": "dfbcbcb5-254a-42e5-f287-2e4017b69801"
      },
      "source": [
        "## Primeiro, vamos calcular a media e o o desvio padrao\n",
        "media_mg = np.mean(df.loc[df['sigla_uf']=='MG','tempo_medio_deslocamento'])\n",
        "std_mg = np.std(df.loc[df['sigla_uf']=='MG','tempo_medio_deslocamento'])\n",
        "\n",
        "print('O tempo médio de deslocamento no estado de MG é de', \\\n",
        "      np.round(media_mg,2), 'e o desvio padrão é de', np.round(std_mg,2))"
      ],
      "execution_count": 3,
      "outputs": [
        {
          "output_type": "stream",
          "name": "stdout",
          "text": [
            "O tempo médio de deslocamento no estado de MG é de 33.95 e o desvio padrão é de 10.49\n"
          ]
        }
      ]
    },
    {
      "cell_type": "code",
      "metadata": {
        "id": "N0LfA7ClACtZ"
      },
      "source": [
        "## Agora, voltando à tabela do Z-score, vemos que o valor de Z\n",
        "##correspondente a um nível de confiança de 95% é de 1.96\n",
        "## Assim, podemos calcular o intervalo de confiança:\n",
        "\n",
        "z = 1.96\n",
        "CI_inf_mg = media_mg - z*(std_mg/np.sqrt(len(df.loc[df['sigla_uf']=='MG'])))\n",
        "CI_sup_mg = media_mg + z*(std_mg/np.sqrt(len(df.loc[df['sigla_uf']=='MG'])))"
      ],
      "execution_count": 4,
      "outputs": []
    },
    {
      "cell_type": "code",
      "metadata": {
        "id": "EwRgysOvA1-J",
        "colab": {
          "base_uri": "https://localhost:8080/"
        },
        "outputId": "e94eafa0-9c9c-4b57-88b7-09565a64bf6f"
      },
      "source": [
        "print('(', np.round(CI_inf_mg,2), ',',np.round(CI_sup_mg,2), ')')"
      ],
      "execution_count": 5,
      "outputs": [
        {
          "output_type": "stream",
          "name": "stdout",
          "text": [
            "( 30.61 , 37.28 )\n"
          ]
        }
      ]
    },
    {
      "cell_type": "markdown",
      "metadata": {
        "id": "WA2eaVytBfSo"
      },
      "source": [
        "## Exercício 1\n",
        "\n",
        "Qual é o CI do tempo médio de deslocamento casa-trabalho para o estado de MG, considerando um nível de confiança de 90%?"
      ]
    },
    {
      "cell_type": "code",
      "metadata": {
        "id": "b9sRK9UIUrWx",
        "colab": {
          "base_uri": "https://localhost:8080/"
        },
        "outputId": "ce321935-e512-4581-8b4a-77a081af569c"
      },
      "source": [
        "z = 1.65\n",
        "CI_inf_mg = media_mg - z*(std_mg/np.sqrt(len(df.loc[df['sigla_uf']=='MG'])))\n",
        "CI_sup_mg = media_mg + z*(std_mg/np.sqrt(len(df.loc[df['sigla_uf']=='MG'])))\n",
        "print('(', np.round(CI_inf_mg,2), ',',np.round(CI_sup_mg,2), ')')"
      ],
      "execution_count": 6,
      "outputs": [
        {
          "output_type": "stream",
          "name": "stdout",
          "text": [
            "( 31.14 , 36.76 )\n"
          ]
        }
      ]
    },
    {
      "cell_type": "markdown",
      "metadata": {
        "id": "QfiTVIclUrvc"
      },
      "source": [
        "## Exercício 2\n",
        "\n",
        "Qual é o CI do tempo médio de deslocamento casa-trabalho para o estado de SP, considerando um nível de confiança de 95%?"
      ]
    },
    {
      "cell_type": "code",
      "metadata": {
        "id": "503EGlrSU0y8",
        "colab": {
          "base_uri": "https://localhost:8080/"
        },
        "outputId": "3c8f577d-ebd8-4825-a958-f17428c7c667"
      },
      "source": [
        "media_sp = np.mean(df.loc[df['sigla_uf']=='SP','tempo_medio_deslocamento'])\n",
        "std_sp = np.std(df.loc[df['sigla_uf']=='SP','tempo_medio_deslocamento'])\n",
        "\n",
        "z = 1.96\n",
        "CI_inf_sp = media_sp - z*(std_sp/np.sqrt(len(df.loc[df['sigla_uf']=='SP'])))\n",
        "CI_sup_sp = media_sp + z*(std_sp/np.sqrt(len(df.loc[df['sigla_uf']=='SP'])))\n",
        "print('(', np.round(CI_inf_sp,2), ',',np.round(CI_sup_sp,2), ')')"
      ],
      "execution_count": 7,
      "outputs": [
        {
          "output_type": "stream",
          "name": "stdout",
          "text": [
            "( 41.9 , 47.13 )\n"
          ]
        }
      ]
    },
    {
      "cell_type": "markdown",
      "metadata": {
        "id": "qvCxFKxTU1nm"
      },
      "source": [
        "## Exercício 3\n",
        "\n",
        "Qual é o CI do tempo **mediano** de deslocamento casa-trabalho para o estado de SP, considerando um nível de confiança de 95%?"
      ]
    },
    {
      "cell_type": "code",
      "metadata": {
        "id": "26AF4cedU9kq",
        "colab": {
          "base_uri": "https://localhost:8080/"
        },
        "outputId": "1afa0e58-df5b-4904-eb5f-eeb6f4734640"
      },
      "source": [
        "mediana_sp = np.median(df.loc[df['sigla_uf']=='SP','tempo_medio_deslocamento'])\n",
        "\n",
        "z = 1.96\n",
        "CI_inf_sp = mediana_sp - z*(std_sp/np.sqrt(len(df.loc[df['sigla_uf']=='SP'])))\n",
        "CI_sup_sp = mediana_sp + z*(std_sp/np.sqrt(len(df.loc[df['sigla_uf']=='SP'])))\n",
        "print('(', np.round(CI_inf_sp,2), ',',np.round(CI_sup_sp,2), ')')"
      ],
      "execution_count": 8,
      "outputs": [
        {
          "output_type": "stream",
          "name": "stdout",
          "text": [
            "( 42.39 , 47.61 )\n"
          ]
        }
      ]
    },
    {
      "cell_type": "markdown",
      "metadata": {
        "id": "fI7HkUs5U-Fa"
      },
      "source": [
        "### Biblioteca scipy.stats\n",
        "\n",
        "O módulo de funções estatísticas scipy stats nos permite calcular o CI chamando apenas uma função. Para maiores informações, ver https://docs.scipy.org/doc/scipy/reference/generated/scipy.stats.norm.html."
      ]
    },
    {
      "cell_type": "code",
      "metadata": {
        "id": "UXTBErLABclW"
      },
      "source": [
        "import scipy.stats as st\n",
        "\n",
        "#Voltando ao problema inicial, vamos calcular o intervalo de confiança para\n",
        "#o tempo medio de deslocamento no estado de MG para um nível de confiança de 95%.\n",
        "#alpha = nivel de confiança\n",
        "#loc = array dos dados para media\n",
        "#scale = desvio padrão amostral da média\n",
        "\n",
        "ci = st.norm.interval(confidence=0.95, loc=np.mean(df.loc[df['sigla_uf']=='MG','tempo_medio_deslocamento']), \\\n",
        "                      scale=st.sem(df.loc[df['sigla_uf']=='MG','tempo_medio_deslocamento'], \\\n",
        "                                   ddof=0, nan_policy='omit'))"
      ],
      "execution_count": 9,
      "outputs": []
    },
    {
      "cell_type": "code",
      "metadata": {
        "id": "jJox9e8kY3SA",
        "colab": {
          "base_uri": "https://localhost:8080/"
        },
        "outputId": "ff40b428-a786-44aa-baf5-26c1f68ec883"
      },
      "source": [
        "np.round(ci,2)"
      ],
      "execution_count": 10,
      "outputs": [
        {
          "output_type": "execute_result",
          "data": {
            "text/plain": [
              "array([30.61, 37.28])"
            ]
          },
          "metadata": {},
          "execution_count": 10
        }
      ]
    },
    {
      "cell_type": "markdown",
      "metadata": {
        "id": "AqXAYCAZW9LH"
      },
      "source": [
        "## Exercício 4\n",
        "\n",
        "Usando a biblioteca scipy.stats, calcule e imprima o CI do tempo médio de deslocamento para cada estado brasileiro, com nível de confiança de 99% ."
      ]
    },
    {
      "cell_type": "code",
      "source": [
        "conf = 0.99\n",
        "\n",
        "def calcular_ci(df, tratar_erros=False):\n",
        "    resultados = []\n",
        "    for estado in sorted(df['sigla_uf'].unique()):\n",
        "        estado_data = df.loc[df['sigla_uf'] == estado, 'tempo_medio_deslocamento'].dropna()\n",
        "        n_samples = len(estado_data)\n",
        "        std_dev = np.std(estado_data)\n",
        "\n",
        "        if n_samples > 1 and std_dev > 0:  # Checando se há mais de um dado e variância não zero\n",
        "            mean = np.mean(estado_data)\n",
        "            ci = st.norm.interval(confidence=conf, loc=mean, scale=st.sem(estado_data))\n",
        "            if tratar_erros:\n",
        "                resultados.append((estado, mean, ci, n_samples, std_dev))\n",
        "            else:\n",
        "                resultados.append((estado, mean, ci))\n",
        "        else:\n",
        "            if tratar_erros:\n",
        "                resultados.append((estado, None, (None, None), n_samples, std_dev))\n",
        "            else:\n",
        "                resultados.append((estado, np.nan, (np.nan, np.nan)))\n",
        "\n",
        "    return resultados"
      ],
      "metadata": {
        "id": "ZoQloiASRQb8"
      },
      "execution_count": 11,
      "outputs": []
    },
    {
      "cell_type": "code",
      "source": [
        "# Para imprimir:\n",
        "for estado, mean, ci in calcular_ci(df):\n",
        "    print(f\"{estado}: {np.round(ci, 2)}\")"
      ],
      "metadata": {
        "colab": {
          "base_uri": "https://localhost:8080/"
        },
        "id": "yWpUAX5jZTL_",
        "outputId": "101d7bf2-08ee-4094-ed84-a0b6e271afb2"
      },
      "execution_count": 12,
      "outputs": [
        {
          "output_type": "stream",
          "name": "stdout",
          "text": [
            "AC: [nan nan]\n",
            "AL: [nan nan]\n",
            "AM: [nan nan]\n",
            "AP: [nan nan]\n",
            "BA: [27.4  35.21]\n",
            "CE: [22.16 29.11]\n",
            "DF: [nan nan]\n",
            "ES: [nan nan]\n",
            "GO: [24.03 36.23]\n",
            "MA: [nan nan]\n",
            "MG: [29.5  38.39]\n",
            "MS: [nan nan]\n",
            "MT: [nan nan]\n",
            "PA: [25.42 40.58]\n",
            "PB: [nan nan]\n",
            "PE: [34.14 43.99]\n",
            "PI: [nan nan]\n",
            "PR: [29.13 38.05]\n",
            "RJ: [39.7  51.63]\n",
            "RN: [nan nan]\n",
            "RO: [nan nan]\n",
            "RR: [nan nan]\n",
            "RS: [nan nan]\n",
            "SC: [nan nan]\n",
            "SE: [nan nan]\n",
            "SP: [41.03 47.99]\n",
            "TO: [nan nan]\n"
          ]
        }
      ]
    },
    {
      "cell_type": "markdown",
      "metadata": {
        "id": "c0triLjibE3B"
      },
      "source": [
        "## Exercício 5\n",
        "Se não há valores valores, por que a função retorna NA para alguns estados?"
      ]
    },
    {
      "cell_type": "code",
      "source": [
        "for estado, mean, ci, n_samples, std_dev in calcular_ci(df, tratar_erros=True):\n",
        "    if mean is not None:\n",
        "        print(f\"{estado}: {np.round(ci, 2)}\")\n",
        "    else:\n",
        "        print(f\"{estado}: Insuficiente ou sem dados para calcular o CI (Dados disponíveis: {n_samples}, Variância: {std_dev})\")"
      ],
      "metadata": {
        "colab": {
          "base_uri": "https://localhost:8080/"
        },
        "id": "hMxvptBIXETa",
        "outputId": "283d9470-a9f7-4c37-b088-c85d3c8b7ec8"
      },
      "execution_count": 13,
      "outputs": [
        {
          "output_type": "stream",
          "name": "stdout",
          "text": [
            "AC: Insuficiente ou sem dados para calcular o CI (Dados disponíveis: 1, Variância: 0.0)\n",
            "AL: Insuficiente ou sem dados para calcular o CI (Dados disponíveis: 1, Variância: 0.0)\n",
            "AM: Insuficiente ou sem dados para calcular o CI (Dados disponíveis: 1, Variância: 0.0)\n",
            "AP: Insuficiente ou sem dados para calcular o CI (Dados disponíveis: 1, Variância: 0.0)\n",
            "BA: [27.4  35.21]\n",
            "CE: [22.16 29.11]\n",
            "DF: Insuficiente ou sem dados para calcular o CI (Dados disponíveis: 1, Variância: 0.0)\n",
            "ES: Insuficiente ou sem dados para calcular o CI (Dados disponíveis: 1, Variância: 0.0)\n",
            "GO: [24.03 36.23]\n",
            "MA: Insuficiente ou sem dados para calcular o CI (Dados disponíveis: 1, Variância: 0.0)\n",
            "MG: [29.5  38.39]\n",
            "MS: Insuficiente ou sem dados para calcular o CI (Dados disponíveis: 1, Variância: 0.0)\n",
            "MT: Insuficiente ou sem dados para calcular o CI (Dados disponíveis: 1, Variância: 0.0)\n",
            "PA: [25.42 40.58]\n",
            "PB: Insuficiente ou sem dados para calcular o CI (Dados disponíveis: 1, Variância: 0.0)\n",
            "PE: [34.14 43.99]\n",
            "PI: Insuficiente ou sem dados para calcular o CI (Dados disponíveis: 1, Variância: 0.0)\n",
            "PR: [29.13 38.05]\n",
            "RJ: [39.7  51.63]\n",
            "RN: Insuficiente ou sem dados para calcular o CI (Dados disponíveis: 1, Variância: 0.0)\n",
            "RO: Insuficiente ou sem dados para calcular o CI (Dados disponíveis: 1, Variância: 0.0)\n",
            "RR: Insuficiente ou sem dados para calcular o CI (Dados disponíveis: 1, Variância: 0.0)\n",
            "RS: Insuficiente ou sem dados para calcular o CI (Dados disponíveis: 1, Variância: 0.0)\n",
            "SC: Insuficiente ou sem dados para calcular o CI (Dados disponíveis: 1, Variância: 0.0)\n",
            "SE: Insuficiente ou sem dados para calcular o CI (Dados disponíveis: 1, Variância: 0.0)\n",
            "SP: [41.03 47.99]\n",
            "TO: Insuficiente ou sem dados para calcular o CI (Dados disponíveis: 1, Variância: 0.0)\n"
          ]
        }
      ]
    },
    {
      "cell_type": "markdown",
      "metadata": {
        "id": "NDkZBh6abP8h"
      },
      "source": [
        "Supondo que a pergunta era \"Se não há valores NULOS, por que a função retorna NA para alguns estados?\"\n",
        "\n",
        "Como pode ser visto na saída acima, isso ocorre pois em alguns estados temos poucos dados (apenas 1), faendo com que a variância, e, por consequência, o desvio padrão, sejam 0. Para calcular um intervalo de confiança, são necessários pelo menos dois dados para que o desvio padrão seja definido (n > 1)."
      ]
    },
    {
      "cell_type": "markdown",
      "metadata": {
        "id": "Uc6n2JacbQim"
      },
      "source": [
        "## Exercício 6\n",
        "\n",
        "Crie uma visualização (a seu critério) para mostrar os intervalos de confiança dos estados com valores não nulos. Qual padrão você observa?"
      ]
    },
    {
      "cell_type": "code",
      "metadata": {
        "id": "rHgfu15-bhFs",
        "colab": {
          "base_uri": "https://localhost:8080/",
          "height": 727
        },
        "outputId": "fc9032d4-a2e5-445e-ddbf-d6b4c957ec3f"
      },
      "source": [
        "import matplotlib.pyplot as plt\n",
        "\n",
        "estados = []\n",
        "means = []\n",
        "errors = []\n",
        "\n",
        "for estado, mean, ci in calcular_ci(df):\n",
        "    if mean is not None and not np.isnan(mean):  # Checa se a média não é NaN\n",
        "        lower, upper = ci\n",
        "        estados.append(estado)\n",
        "        means.append(mean)\n",
        "        errors.append((mean - lower, upper - mean))\n",
        "\n",
        "# Plot\n",
        "plt.figure(figsize=(10, 8))\n",
        "plt.errorbar(x=estados, y=means, yerr=np.array(errors).T, fmt='o', ecolor='r', capsize=5)\n",
        "plt.xlabel('Estado')\n",
        "plt.ylabel('Tempo Médio de Deslocamento (com IC 99%)')\n",
        "plt.title('Intervalo de Confiança do Tempo Médio de Deslocamento por Estado')\n",
        "plt.xticks(rotation=90)\n",
        "plt.grid(True)\n",
        "plt.show()"
      ],
      "execution_count": 14,
      "outputs": [
        {
          "output_type": "display_data",
          "data": {
            "text/plain": [
              "<Figure size 1000x800 with 1 Axes>"
            ],
            "image/png": "[encoded data removed]"
          },
          "metadata": {}
        }
      ]
    },
    {
      "cell_type": "markdown",
      "source": [
        "Podemos perceber que estados com grandes centros urbanos e tráfego pesado, como São Paulo (SP) e Rio de Janeiro (RJ), podem apresentar tempos médios de deslocamento maiores. Tal padrão é estatisticamente significativo na comparação com alguns outros estados, como Paraná (PR) e Ceará (CE).\n",
        "Além disso, estados com maior número de respostas tendem a ter intervalos de confiança mais estreitos, refletindo maior precisão nas estimativas do tempo de deslocamento."
      ],
      "metadata": {
        "id": "wJjuQpJ5UBtU"
      }
    },
    {
      "cell_type": "code",
      "source": [],
      "metadata": {
        "id": "S9EFC4E3Qkv4"
      },
      "execution_count": null,
      "outputs": []
    }
  ]
}